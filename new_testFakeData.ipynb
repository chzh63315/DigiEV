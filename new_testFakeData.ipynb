{
 "cells": [
  {
   "cell_type": "code",
   "execution_count": null,
   "metadata": {},
   "outputs": [],
   "source": [
    "import json\n",
    "from datetime import datetime, timedelta\n",
    "import entities.fakeEntities as fe"
   ]
  },
  {
   "cell_type": "code",
   "execution_count": 2,
   "metadata": {},
   "outputs": [
    {
     "name": "stdout",
     "output_type": "stream",
     "text": [
      "\n",
      "Single session:\n",
      "ID: 001_1753794020847\n",
      "Duration: 221 min\n",
      "Energy: 14.457 kWh\n",
      "Charging Point: urn:ngsi-ld:ChargingPoint:fakeStation-2-P-01\n"
     ]
    }
   ],
   "source": [
    "# Generate single session\n",
    "session = fe.generate_random_session(1)\n",
    "print(f\"\\nSingle session:\")\n",
    "print(f\"ID: {session['sessionId']['value']}\")\n",
    "print(f\"Duration: {session['chargingDuration']['value']} min\")\n",
    "print(f\"Energy: {session['energyConsumed']['value']} kWh\")\n",
    "print(f\"Charging Point: {session['refChargingPoint']['object']}\")\n"
   ]
  },
  {
   "cell_type": "code",
   "execution_count": 3,
   "metadata": {},
   "outputs": [],
   "source": [
    "# Generate multiple sessions\n",
    "random_sessions = fe.generate_multiple_sessions(20, \"random\")\n",
    "solt_sessions = fe.generate_multiple_sessions(20, \"slot\")\n",
    "informed_sessions = fe.generate_multiple_sessions(20, \"informed\")\n"
   ]
  },
  {
   "cell_type": "code",
   "execution_count": 4,
   "metadata": {},
   "outputs": [],
   "source": [
    "# batch_sessions = generate_scenario_batch_sessions(90)   # 30 for each case\n",
    "batch_sessions = fe.generate_scenario_batch_sessions(\n",
    "    total_count=50,\n",
    "    batch_distribution={\n",
    "        \"random\": 15,      \n",
    "        \"slot\": 20,   \n",
    "        \"informed\": 15    \n",
    "    }\n",
    ")"
   ]
  },
  {
   "cell_type": "code",
   "execution_count": 5,
   "metadata": {},
   "outputs": [
    {
     "name": "stdout",
     "output_type": "stream",
     "text": [
      "{\n",
      "  \"id\": \"urn:ngsi-ld:ChargingSessionFake:session-001_1753794020921\",\n",
      "  \"type\": \"ChargingSessionFake\",\n",
      "  \"refChargingPoint\": {\n",
      "    \"type\": \"Relationship\",\n",
      "    \"object\": \"urn:ngsi-ld:ChargingPoint:fakeStation-2-P-05\"\n",
      "  },\n",
      "  \"sessionId\": {\n",
      "    \"type\": \"Property\",\n",
      "    \"value\": \"001_1753794020921\"\n",
      "  },\n",
      "  \"sessionStatus\": {\n",
      "    \"type\": \"Property\",\n",
      "    \"value\": \"ended\"\n",
      "  },\n",
      "  \"sessionStartTime\": {\n",
      "    \"type\": \"Property\",\n",
      "    \"value\": {\n",
      "      \"@type\": \"DateTime\",\n",
      "      \"@value\": \"2024-05-20T13:42:12.000Z\"\n",
      "    },\n",
      "    \"observedAt\": \"2024-05-20T13:42:12.000Z\"\n",
      "  },\n",
      "  \"sessionEndTime\": {\n",
      "    \"type\": \"Property\",\n",
      "    \"value\": {\n",
      "      \"@type\": \"DateTime\",\n",
      "      \"@value\": \"2024-05-20T19:40:12.000Z\"\n",
      "    },\n",
      "    \"observedAt\": \"2024-05-20T19:40:12.000Z\"\n",
      "  },\n",
      "  \"chargingDuration\": {\n",
      "    \"type\": \"Property\",\n",
      "    \"value\": 358,\n",
      "    \"unitCode\": \"MIN\"\n",
      "  },\n",
      "  \"energyConsumed\": {\n",
      "    \"type\": \"Property\",\n",
      "    \"value\": 22.359,\n",
      "    \"unitCode\": \"KWH\"\n",
      "  }\n",
      "}\n"
     ]
    }
   ],
   "source": [
    "# Show full structure of first session\n",
    "print(json.dumps(informed_sessions[0], indent=2))"
   ]
  },
  {
   "cell_type": "code",
   "execution_count": 6,
   "metadata": {},
   "outputs": [
    {
     "name": "stdout",
     "output_type": "stream",
     "text": [
      "{\n",
      "  \"id\": \"urn:ngsi-ld:ChargingSessionFake:session-001_1753794020956\",\n",
      "  \"type\": \"ChargingSessionFake\",\n",
      "  \"refChargingPoint\": {\n",
      "    \"type\": \"Relationship\",\n",
      "    \"object\": \"urn:ngsi-ld:ChargingPoint:fakeStation-3-P-06\"\n",
      "  },\n",
      "  \"sessionId\": {\n",
      "    \"type\": \"Property\",\n",
      "    \"value\": \"001_1753794020956\"\n",
      "  },\n",
      "  \"sessionStatus\": {\n",
      "    \"type\": \"Property\",\n",
      "    \"value\": \"ended\"\n",
      "  },\n",
      "  \"sessionStartTime\": {\n",
      "    \"type\": \"Property\",\n",
      "    \"value\": {\n",
      "      \"@type\": \"DateTime\",\n",
      "      \"@value\": \"2024-11-25T06:45:56.000Z\"\n",
      "    },\n",
      "    \"observedAt\": \"2024-11-25T06:45:56.000Z\"\n",
      "  },\n",
      "  \"sessionEndTime\": {\n",
      "    \"type\": \"Property\",\n",
      "    \"value\": {\n",
      "      \"@type\": \"DateTime\",\n",
      "      \"@value\": \"2024-11-25T10:23:56.000Z\"\n",
      "    },\n",
      "    \"observedAt\": \"2024-11-25T10:23:56.000Z\"\n",
      "  },\n",
      "  \"chargingDuration\": {\n",
      "    \"type\": \"Property\",\n",
      "    \"value\": 218,\n",
      "    \"unitCode\": \"MIN\"\n",
      "  },\n",
      "  \"energyConsumed\": {\n",
      "    \"type\": \"Property\",\n",
      "    \"value\": 16.216,\n",
      "    \"unitCode\": \"KWH\"\n",
      "  }\n",
      "}\n"
     ]
    }
   ],
   "source": [
    "print(json.dumps(batch_sessions[\"random\"][0], indent=2))"
   ]
  },
  {
   "cell_type": "code",
   "execution_count": 7,
   "metadata": {},
   "outputs": [
    {
     "name": "stdout",
     "output_type": "stream",
     "text": [
      "CHARGING SESSIONS STATISTICS (20 sessions)\n",
      "\n",
      "DURATION STATISTICS (minutes)\n",
      "Min: 1.0\n",
      "Max: 521.0\n",
      "Average: 248.2\n",
      "Median: 245.5\n",
      "Std Dev: 138.6\n",
      "\n",
      "Duration Distribution:\n",
      "< 1 hour: 2 sessions (10.0%)\n",
      "1-2 hours: 2 sessions (10.0%)\n",
      "2-4 hours: 6 sessions (30.0%)\n",
      "4-6 hours: 6 sessions (30.0%)\n",
      "> 6 hours: 4 sessions (20.0%)\n",
      "\n",
      "ENERGY STATISTICS (kWh)\n",
      "Min: 3.39\n",
      "Max: 34.07\n",
      "Average: 17.19\n",
      "Median: 17.22\n",
      "Std Dev: 7.83\n",
      "Total: 343.80\n",
      "\n",
      "Energy Distribution:\n",
      "< 5 kWh: 1 sessions (5.0%)\n",
      "5-10 kWh: 3 sessions (15.0%)\n",
      "10-20 kWh: 10 sessions (50.0%)\n",
      "20-30 kWh: 5 sessions (25.0%)\n",
      "> 30 kWh: 1 sessions (5.0%)\n",
      "\n",
      "TIME ANALYSIS\n",
      "Hourly Distribution (Top 5):\n",
      "13:00-13:59: 6 sessions (30.0%)\n",
      "12:00-12:59: 3 sessions (15.0%)\n",
      "11:00-11:59: 2 sessions (10.0%)\n",
      "18:00-18:59: 2 sessions (10.0%)\n",
      "10:00-10:59: 1 sessions (5.0%)\n",
      "\n",
      "Time Period Distribution:\n",
      "Night (00-06): 2 sessions (10.0%)\n",
      "Morning (07-11): 4 sessions (20.0%)\n",
      "Daytime (12-17): 12 sessions (60.0%)\n",
      "Evening (18-23): 2 sessions (10.0%)\n",
      "\n",
      "Day of Week Distribution:\n",
      "Saturday: 5 sessions (25.0%)\n",
      "Tuesday: 4 sessions (20.0%)\n",
      "Monday: 3 sessions (15.0%)\n",
      "Sunday: 3 sessions (15.0%)\n",
      "Thursday: 2 sessions (10.0%)\n",
      "Wednesday: 2 sessions (10.0%)\n",
      "Friday: 1 sessions (5.0%)\n",
      "\n",
      "CHARGING INFRASTRUCTURE\n",
      "Charging Points Used: 14\n",
      "Top 5 Most Used Points:\n",
      "fakeStation-1-P-06: 3 sessions (15.0%)\n",
      "fakeStation-1-P-08: 3 sessions (15.0%)\n",
      "fakeStation-2-P-01: 2 sessions (10.0%)\n",
      "fakeStation-2-P-10: 2 sessions (10.0%)\n",
      "fakeStation-2-P-05: 1 sessions (5.0%)\n",
      "\n",
      "Station Distribution:\n",
      "fakeStation-2: 7 sessions (35.0%)\n",
      "fakeStation-1: 9 sessions (45.0%)\n",
      "fakeStation-3: 4 sessions (20.0%)\n",
      "\n",
      "TEMPORAL PATTERNS\n",
      "Monthly Distribution (Top 5):\n",
      "January: 4 sessions (20.0%)\n",
      "May: 3 sessions (15.0%)\n",
      "October: 3 sessions (15.0%)\n",
      "September: 2 sessions (10.0%)\n",
      "July: 2 sessions (10.0%)\n",
      "\n",
      "Date Range: 2024-01-02 to 2024-12-14\n",
      "\n",
      "HISTORICAL COMPARISON\n",
      "Duration Average:\n",
      "Historical: 226.0 min\n",
      "Generated: 248.2 min\n",
      "Difference: +22.2 min (+9.8%)\n",
      "\n",
      "Duration Std Dev:\n",
      "Historical: 146.1 min\n",
      "Generated: 138.6 min\n",
      "\n",
      "Energy Average:\n",
      "Historical: 15.95 kWh\n",
      "Generated: 17.19 kWh\n",
      "Difference: +1.24 kWh (+7.8%)\n",
      "\n",
      "EFFICIENCY METRICS\n",
      "Energy per Minute:\n",
      "Average: 0.241 kWh/min\n",
      "Min: 0.061 kWh/min\n",
      "Max: 3.389 kWh/min\n",
      "\n",
      "Average Sessions per Charging Point: 1.4\n"
     ]
    }
   ],
   "source": [
    "fe.show_enhanced_statistics(informed_sessions)"
   ]
  },
  {
   "cell_type": "code",
   "execution_count": 8,
   "metadata": {},
   "outputs": [
    {
     "name": "stdout",
     "output_type": "stream",
     "text": [
      "Quick Stats (20 sessions)\n",
      "Duration: 1-521 min (avg: 248.2)\n",
      "Energy: 3.4-34.1 kWh (avg: 17.19)\n",
      "Total Energy: 343.8 kWh\n"
     ]
    }
   ],
   "source": [
    "fe.show_quick_statistics(informed_sessions)"
   ]
  },
  {
   "cell_type": "code",
   "execution_count": 9,
   "metadata": {},
   "outputs": [
    {
     "name": "stdout",
     "output_type": "stream",
     "text": [
      "SCENARIO COMPARISON\n",
      "Metric               random          slot            informed       \n",
      "Sessions             15              20              15              \n",
      "Avg Duration (min)   197.8           246.2           277.9           \n",
      "Std Duration (min)   121.2           165.9           154.3           \n",
      "Avg Energy (kWh)     14.77           16.79           18.62           \n",
      "Std Energy (kWh)     7.18            9.05            8.50            \n",
      "Peak Hour At (hour)  12              2               11              \n",
      "Morning (7-11)       5               6               5               \n",
      "Daytime (12-17)      5               2               5               \n",
      "Evening (18-23)      2               4               3               \n"
     ]
    }
   ],
   "source": [
    "fe.compare_scenarios(batch_sessions)"
   ]
  }
 ],
 "metadata": {
  "kernelspec": {
   "display_name": "base",
   "language": "python",
   "name": "python3"
  },
  "language_info": {
   "codemirror_mode": {
    "name": "ipython",
    "version": 3
   },
   "file_extension": ".py",
   "mimetype": "text/x-python",
   "name": "python",
   "nbconvert_exporter": "python",
   "pygments_lexer": "ipython3",
   "version": "3.11.5"
  }
 },
 "nbformat": 4,
 "nbformat_minor": 2
}
