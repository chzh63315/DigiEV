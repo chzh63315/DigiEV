{
 "cells": [
  {
   "cell_type": "code",
   "execution_count": 38,
   "id": "9ed2806b",
   "metadata": {},
   "outputs": [
    {
     "name": "stdout",
     "output_type": "stream",
     "text": [
      "Orion-LD URL: http://localhost:1026\n"
     ]
    }
   ],
   "source": [
    "import requests\n",
    "from datetime import datetime, timedelta\n",
    "\n",
    "ORION_URL = \"http://localhost:1026\"\n",
    "NGSI_LD_ENDPOINT = f\"{ORION_URL}/ngsi-ld/v1/entities\"\n",
    "\n",
    "print(f\"Orion-LD URL: {ORION_URL}\")"
   ]
  },
  {
   "cell_type": "code",
   "execution_count": 39,
   "id": "4cd50029",
   "metadata": {},
   "outputs": [
    {
     "name": "stdout",
     "output_type": "stream",
     "text": [
      "{'orionld version': 'post-v1.9.0', 'orion version': '1.15.0-next', 'uptime': '0 d, 4 h, 26 m, 17 s', 'git_hash': 'nogitversion', 'compile_time': 'Wed Apr 16 13:27:24 UTC 2025', 'compiled_by': 'root', 'compiled_in': '', 'release_date': 'Wed Apr 16 13:27:24 UTC 2025', 'doc': 'https://fiware-orion.readthedocs.org/en/master/'}\n"
     ]
    }
   ],
   "source": [
    "response = requests.get(f\"{ORION_URL}/version\")\n",
    "print(response.json())"
   ]
  },
  {
   "cell_type": "code",
   "execution_count": 96,
   "id": "2c70b71b",
   "metadata": {},
   "outputs": [],
   "source": [
    "# charging station\n",
    "\n",
    "CS_001 = {\n",
    "\n",
    "#    \"@context\": \"https://raw.githubusercontent.com/chzh63315/DigiEV/1fd2fb3374578aea96ef41b5a49fc03f144f7afd/contexts/datamodels.context-ngsi.jsonld\",    \n",
    "\n",
    "    # required\n",
    "    \"id\": \"urn:ngsi-ld:ChargingStation:E4C-001\",\n",
    "    \"type\": \"ChargingStation\",\n",
    "\n",
    "    \"stationName\": {\n",
    "        \"type\": \"Property\",\n",
    "        \"value\": \"IPP - Drahi - X\"\n",
    "    },\n",
    "\n",
    "    # required\n",
    "    \"totalChargingPoints\": {\n",
    "        \"type\": \"Property\",\n",
    "        \"value\": 1\n",
    "    },\n",
    "\n",
    "    \"maxPowerCapacity\": {\n",
    "        \"type\": \"Property\",\n",
    "        \"value\": 22.0,\n",
    "        \"units\": \"kW\"  \n",
    "    },\n",
    "\n",
    "    \"ratedVoltage\": {\n",
    "        \"type\": \"Property\",\n",
    "        \"value\": 400.0,\n",
    "        \"units\": \"V\"\n",
    "    },\n",
    "\n",
    "    # required\n",
    "    \"socketType\": {\n",
    "        \"type\": \"Property\",\n",
    "        \"value\": [\n",
    "            \"Type2\"\n",
    "        ]\n",
    "    },\n",
    "\n",
    "    \"dateCreated\": {\n",
    "        \"type\": \"Property\",\n",
    "        \"value\": {\n",
    "            \"@type\": \"DateTime\",\n",
    "            \"@value\": datetime.now().isoformat() + \"Z\"\n",
    "        }\n",
    "    }\n",
    "}"
   ]
  },
  {
   "cell_type": "code",
   "execution_count": null,
   "id": "96721a43",
   "metadata": {},
   "outputs": [],
   "source": [
    "# charging point\n",
    "\n",
    "CP_001 = {\n",
    "#    \"@context\": \"https://raw.githubusercontent.com/chzh63315/DigiEV/1fd2fb3374578aea96ef41b5a49fc03f144f7afd/contexts/datamodels.context-ngsi.jsonld\",    \n",
    "\n",
    "    # required\n",
    "    \"id\": \"urn:ngsi-ld:ChargingPoint:E4C-001-CP-001\",\n",
    "    \"type\": \"ChargingPoint\",\n",
    "\n",
    "    # required - Relationship to Parent Station\n",
    "    \"refChargingStation\": {\n",
    "        \"type\": \"Relationship\",\n",
    "        \"object\": \"urn:ngsi-ld:ChargingStation:E4C-001\"\n",
    "    },\n",
    "\n",
    "    \"pointId\": {\n",
    "        \"type\": \"Property\",\n",
    "        \"value\": \"CP-030-1-001\"\n",
    "    },\n",
    "\n",
    "    # required\n",
    "    \"chargingType\": {\n",
    "        \"type\": \"Property\",\n",
    "        \"value\": \"AC-Level2\"\n",
    "    },\n",
    "\n",
    "    # required\n",
    "    \"connectorTypes\": {\n",
    "        \"type\": \"Property\",\n",
    "        \"value\": [\n",
    "            \"Type2\"\n",
    "        ]\n",
    "    },\n",
    "\n",
    "    \"powerCapabilities\": {\n",
    "        \"type\": \"Property\",\n",
    "        \"value\": {\n",
    "            \"maxACPower\": 22.0,\n",
    "            \"maxDCPower\": 0,\n",
    "            \"maxVoltage\": 400,\n",
    "            \"maxCurrent\": 32,\n",
    "            \"phases\": 3\n",
    "        }\n",
    "    },\n",
    "\n",
    "    \"communicationProtocol\": {\n",
    "        \"type\": \"Property\",\n",
    "        \"value\": \"OCPP1.6J\"\n",
    "    },\n",
    "\n",
    "    \"refChargingPointStatus\": {\n",
    "        \"type\": \"Relationship\",\n",
    "        \"object\": \"urn:ngsi-ld:ChargingPointStatus:E4C-001-CP-001-status-0001\"\n",
    "    },\n",
    "\n",
    "    \"dateCreated\": {\n",
    "        \"type\": \"Property\",\n",
    "        \"value\": {\n",
    "            \"@type\": \"DateTime\",\n",
    "            \"@value\": datetime.now().isoformat() + \"Z\"\n",
    "        }\n",
    "    }\n",
    "}"
   ]
  },
  {
   "cell_type": "code",
   "execution_count": null,
   "id": "e42f668f",
   "metadata": {},
   "outputs": [],
   "source": [
    "# EV\n",
    "\n",
    "EV_001 = {\n",
    "#    \"@context\": \"https://raw.githubusercontent.com/chzh63315/DigiEV/1fd2fb3374578aea96ef41b5a49fc03f144f7afd/contexts/datamodels.context-ngsi.jsonld\",    \n",
    "\n",
    "    # required\n",
    "    \"id\": \"urn:ngsi-ld:E-Vehicle:EV-001\",\n",
    "    \"type\": \"E-Vehicle\",\n",
    "\n",
    "    # required\n",
    "    \"vehiclePlateIdentifier\": {\n",
    "        \"type\": \"Property\",\n",
    "        \"value\": \"EE-049-CE\"\n",
    "    },\n",
    "\n",
    "    # required\n",
    "    \"brand\": {\n",
    "        \"type\": \"Property\",\n",
    "        \"value\": \"Renault\"\n",
    "    },\n",
    "\n",
    "    \"color\": {\n",
    "        \"type\": \"Property\",\n",
    "        \"value\": \"white\"\n",
    "    },\n",
    "\n",
    "    # required\n",
    "    \"batterySpecifications\": {\n",
    "        \"type\": \"Property\",\n",
    "        \"value\": {\n",
    "            \"totalCapacity\": 52.0,\n",
    "            \"batteryType\": \"lithium-ion\",\n",
    "            \"nominalVoltage\": 400\n",
    "        }\n",
    "    },\n",
    "\n",
    "    # required\n",
    "    \"chargingCapabilities\": {\n",
    "        \"type\": \"Property\",\n",
    "        \"value\": {\n",
    "            \"maxChargingPowerAC\": 22.0,\n",
    "            \"maxChargingPowerDC\": 130.0,\n",
    "            \"chargingPortTypes\": [\n",
    "                \"Type2\",\n",
    "                \"CCS2\"\n",
    "            ],\n",
    "            \"chargingStandards\": [\n",
    "                \"AC-Level2\",\n",
    "                \"DC-FastCharging\"\n",
    "            ]\n",
    "        }\n",
    "    },\n",
    "\n",
    "    # required\n",
    "    \"refVehicleStatus\": {\n",
    "        \"type\": \"Relationship\",\n",
    "        \"object\": \"urn:ngsi-ld:E-VehicleStatus:EV-001-status-0001\"\n",
    "    },\n",
    "\n",
    "    # required\n",
    "    \"vehicleType\": {\n",
    "        \"type\": \"Property\",\n",
    "        \"value\": \"car\"\n",
    "    },\n",
    "\n",
    "    \"dateCreated\": {\n",
    "        \"type\": \"Property\",\n",
    "        \"value\": {\n",
    "            \"@type\": \"DateTime\",\n",
    "            \"@value\": datetime.now().isoformat() + \"Z\"\n",
    "        }\n",
    "    }\n",
    "}"
   ]
  },
  {
   "cell_type": "code",
   "execution_count": null,
   "id": "0ccf3cd8",
   "metadata": {},
   "outputs": [],
   "source": [
    "# charging session\n",
    "\n",
    "session_start = datetime.now()\n",
    "charging_start = session_start + timedelta(minutes=0.5)  \n",
    "\n",
    "se_001 = {\n",
    "#    \"@context\": \"https://raw.githubusercontent.com/chzh63315/DigiEV/1fd2fb3374578aea96ef41b5a49fc03f144f7afd/contexts/datamodels.context-ngsi.jsonld\",    \n",
    "    \n",
    "    # required\n",
    "      \"id\": \"urn:ngsi-ld:ChargingSession:session-512840826\",\n",
    "      \"type\": \"ChargingSession\",\n",
    "\n",
    "    # required      \n",
    "      \"refVehicleStatus\": {\n",
    "          \"type\": \"Relationship\",\n",
    "          \"object\": \"urn:ngsi-ld:E-VehicleStatus:vehicle-001-status\"\n",
    "      },\n",
    "\n",
    "    # required\n",
    "      \"refChargingPoint\": {\n",
    "          \"type\": \"Relationship\",\n",
    "          \"object\": \"urn:ngsi-ld:ChargingPoint:E4C-001-CP-001\"\n",
    "      },\n",
    "      \n",
    "      \"sessionId\": {\n",
    "          \"type\": \"Property\",\n",
    "          \"value\": \"512840826\"\n",
    "      },\n",
    "\n",
    "    # required\n",
    "      \"sessionStatus\": {\n",
    "          \"type\": \"Property\",\n",
    "          \"value\": \"charging\"\n",
    "      },\n",
    "      \"sessionType\": {\n",
    "          \"type\": \"Property\",\n",
    "          \"value\": \"AC-Level2\"\n",
    "      },\n",
    "      \n",
    "    # required\n",
    "      \"sessionStartTime\": {\n",
    "          \"type\": \"Property\",\n",
    "          \"value\": {\n",
    "              \"@type\": \"DateTime\",\n",
    "              \"@value\": session_start.isoformat() + \"Z\"\n",
    "          }\n",
    "      },\n",
    "\n",
    "    # required\n",
    "      \"chargingStartTime\": {\n",
    "          \"type\": \"Property\",\n",
    "          \"value\": {\n",
    "              \"@type\": \"DateTime\",\n",
    "              \"@value\": charging_start.isoformat() + \"Z\"\n",
    "          }\n",
    "      },\n",
    "      \n",
    "      \"sessionDuration\": {\n",
    "          \"type\": \"Property\",\n",
    "          \"value\": 25.5,\n",
    "          \"units\": \"MIN\",\n",
    "      },\n",
    "\n",
    "\n",
    "      \"chargingDuration\": {\n",
    "          \"type\": \"Property\",\n",
    "          \"value\": 25.0,\n",
    "          \"units\": \"MIN\",\n",
    "      },\n",
    "      \n",
    "\n",
    "      \"userId\": {\n",
    "          \"type\": \"Property\",\n",
    "          \"value\": \"RemoteApp\"\n",
    "      },\n",
    "      \"authenticationMethod\": {\n",
    "          \"type\": \"Property\",\n",
    "          \"value\": \"RFID\"\n",
    "      },\n",
    "      \"authenticationId\": {\n",
    "          \"type\": \"Property\",\n",
    "          \"value\": \"1\"\n",
    "      },\n",
    "\n",
    "      \"dateCreated\": {\n",
    "          \"type\": \"Property\",\n",
    "          \"value\": {\n",
    "              \"@type\": \"DateTime\",\n",
    "              \"@value\": session_start.isoformat() + \"Z\"\n",
    "          }\n",
    "      },\n",
    "\n",
    "    # required\n",
    "      \"lastUpdated\": {\n",
    "          \"type\": \"Property\",\n",
    "          \"value\": {\n",
    "              \"@type\": \"DateTime\",\n",
    "              \"@value\": datetime.now().isoformat() + \"Z\"\n",
    "          }\n",
    "      }\n",
    "  }"
   ]
  },
  {
   "cell_type": "code",
   "execution_count": 97,
   "id": "1f44225c",
   "metadata": {},
   "outputs": [],
   "source": [
    "# headers = {\n",
    "#     \"Content-Type\": \"application/ld+json\",\n",
    "#     \"Accept\": \"application/ld+json\"\n",
    "# }\n",
    "\n",
    "headers = {\n",
    "    'Content-Type': 'application/json',\n",
    "    'Accept': 'application/ld+json',\n",
    "    'Link': '<https://raw.githubusercontent.com/chzh63315/DigiEV/1fd2fb3374578aea96ef41b5a49fc03f144f7afd/contexts/datamodels.context-ngsi.jsonld>; rel=\"http://www.w3.org/ns/json-ld#context\"; type=\"application/ld+json\"'\n",
    "}"
   ]
  },
  {
   "cell_type": "code",
   "execution_count": null,
   "id": "15623d9d",
   "metadata": {},
   "outputs": [
    {
     "name": "stdout",
     "output_type": "stream",
     "text": [
      "HTTP statu: 201\n",
      "info: \n"
     ]
    }
   ],
   "source": [
    "response = requests.post(\n",
    "    NGSI_LD_ENDPOINT,\n",
    "    json=CS_001,\n",
    "    headers=headers\n",
    ")\n",
    "\n",
    "print(f\"HTTP statu: {response.status_code}\")\n",
    "print(f\"info: {response.json()}\")"
   ]
  },
  {
   "cell_type": "code",
   "execution_count": null,
   "id": "2d078f3b",
   "metadata": {},
   "outputs": [
    {
     "name": "stdout",
     "output_type": "stream",
     "text": [
      "HTTP statu: 201\n",
      "info: \n"
     ]
    }
   ],
   "source": [
    "response = requests.post(\n",
    "    NGSI_LD_ENDPOINT,\n",
    "    json=CP_001,\n",
    "    headers=headers\n",
    ")\n",
    "\n",
    "print(f\"HTTP statu: {response.status_code}\")\n",
    "print(f\"info: {response.json()}\")"
   ]
  },
  {
   "cell_type": "code",
   "execution_count": null,
   "id": "0c982e1d",
   "metadata": {},
   "outputs": [
    {
     "name": "stdout",
     "output_type": "stream",
     "text": [
      "HTTP statu: 201\n",
      "info: \n"
     ]
    }
   ],
   "source": [
    "response = requests.post(\n",
    "    NGSI_LD_ENDPOINT,\n",
    "    json=EV_001,\n",
    "    headers=headers\n",
    ")\n",
    "\n",
    "print(f\"HTTP statu: {response.status_code}\")\n",
    "print(f\"info: {response.json()}\")"
   ]
  },
  {
   "cell_type": "code",
   "execution_count": 103,
   "id": "014a5bd9",
   "metadata": {},
   "outputs": [
    {
     "name": "stdout",
     "output_type": "stream",
     "text": [
      "HTTP statu: 400\n",
      "info: {'type': 'https://uri.etsi.org/ngsi-ld/errors/BadRequestData', 'title': 'Mismatch between /Content-Type/ and contents of the request payload body', 'detail': \"Content-Type is application/json, yet a '@context' item was present in the payload body\"}\n"
     ]
    }
   ],
   "source": [
    "response = requests.post(\n",
    "    NGSI_LD_ENDPOINT,\n",
    "    json=se_001,\n",
    "    headers=headers\n",
    ")\n",
    "\n",
    "print(f\"HTTP statu: {response.status_code}\")\n",
    "print(f\"info: {response.json()}\")"
   ]
  },
  {
   "cell_type": "code",
   "execution_count": null,
   "id": "55b4c818",
   "metadata": {},
   "outputs": [
    {
     "name": "stdout",
     "output_type": "stream",
     "text": [
      "HTTP status: 200\n",
      "Entity data: {'@context': ['https://raw.githubusercontent.com/chzh63315/DigiEV/1fd2fb3374578aea96ef41b5a49fc03f144f7afd/contexts/datamodels.context-ngsi.jsonld', 'https://uri.etsi.org/ngsi-ld/v1/ngsi-ld-core-context-v1.8.jsonld'], 'id': 'urn:ngsi-ld:ChargingStation:E4C-001', 'type': 'ChargingStation', 'stationName': {'type': 'Property', 'value': 'IPP - Drahi - X'}, 'totalChargingPoints': {'type': 'Property', 'value': 1}, 'maxPowerCapacity': {'type': 'Property', 'value': 22, 'units': {'type': 'Property', 'value': 'kW'}}, 'ratedVoltage': {'type': 'Property', 'value': 400, 'units': {'type': 'Property', 'value': 'V'}}, 'socketType': {'type': 'Property', 'value': 'Type2'}, 'dateCreated': {'type': 'Property', 'value': {'@type': 'DateTime', '@value': '2025-06-18T16:35:17.629489Z'}}}\n"
     ]
    }
   ],
   "source": [
    "entity_id = \"urn:ngsi-ld:ChargingStation:E4C-001\"\n",
    "query_url = f\"{NGSI_LD_ENDPOINT}/{entity_id}\"\n",
    "\n",
    "response = requests.get(query_url, headers=headers)\n",
    "\n",
    "print(f\"HTTP status: {response.status_code}\")\n",
    "print(f\"info: {response.json()}\")"
   ]
  },
  {
   "cell_type": "code",
   "execution_count": null,
   "id": "69143e2b",
   "metadata": {},
   "outputs": [
    {
     "name": "stdout",
     "output_type": "stream",
     "text": [
      "HTTP status: 200\n",
      "[]\n"
     ]
    }
   ],
   "source": [
    "query_url = f\"{NGSI_LD_ENDPOINT}?type=ChargingStation\"\n",
    "\n",
    "response = requests.get(query_url, headers=headers)\n",
    "print(f\"HTTP status: {response.status_code}\")\n",
    "print(f\"info: {response.json()}\")"
   ]
  },
  {
   "cell_type": "code",
   "execution_count": null,
   "id": "d35e7cb1",
   "metadata": {},
   "outputs": [
    {
     "name": "stdout",
     "output_type": "stream",
     "text": [
      "HTTP status: 204\n"
     ]
    }
   ],
   "source": [
    "entity_id = \"urn:ngsi-ld:ChargingStation:E4C-001\"\n",
    "delete_url = f\"{NGSI_LD_ENDPOINT}/{entity_id}\"\n",
    "\n",
    "response = requests.delete(delete_url, headers=headers)\n",
    "\n",
    "print(f\"HTTP status: {response.status_code}\")\n",
    "print(f\"info: {response.json()}\")"
   ]
  },
  {
   "cell_type": "code",
   "execution_count": 106,
   "id": "bedaeac1",
   "metadata": {},
   "outputs": [
    {
     "name": "stdout",
     "output_type": "stream",
     "text": [
      "HTTP status: 200\n",
      "info: [{'@context': ['https://raw.githubusercontent.com/chzh63315/DigiEV/1fd2fb3374578aea96ef41b5a49fc03f144f7afd/contexts/datamodels.context-ngsi.jsonld', 'https://uri.etsi.org/ngsi-ld/v1/ngsi-ld-core-context-v1.8.jsonld'], 'id': 'urn:ngsi-ld:ChargingSession:session-512840826', 'type': 'ChargingSession', 'authenticationId': {'type': 'Property', 'value': '1'}, 'authenticationMethod': {'type': 'Property', 'value': 'RFID'}, 'chargingDuration': {'type': 'Property', 'value': 25, 'units': {'type': 'Property', 'value': 'MIN'}}, 'chargingStartTime': {'type': 'Property', 'value': {'@type': 'DateTime', '@value': '2025-06-18T15:58:04.967279Z'}}, 'dateCreated': {'type': 'Property', 'value': {'@type': 'DateTime', '@value': '2025-06-18T15:57:34.967279Z'}}, 'lastUpdated': {'type': 'Property', 'value': {'@type': 'DateTime', '@value': '2025-06-18T15:57:34.967786Z'}}, 'refChargingPoint': {'type': 'Relationship', 'object': 'urn:ngsi-ld:ChargingPoint:E4C-001-CP-001'}, 'refVehicleStatus': {'type': 'Relationship', 'object': 'urn:ngsi-ld:E-VehicleStatus:vehicle-001-status'}, 'sessionDuration': {'type': 'Property', 'value': 25.5, 'units': {'type': 'Property', 'value': 'MIN'}}, 'sessionId': {'type': 'Property', 'value': '512840826'}, 'sessionStartTime': {'type': 'Property', 'value': {'@type': 'DateTime', '@value': '2025-06-18T15:57:34.967279Z'}}, 'sessionStatus': {'type': 'Property', 'value': 'charging'}, 'sessionType': {'type': 'Property', 'value': 'AC-Level2'}, 'userId': {'type': 'Property', 'value': 'RemoteApp'}}]\n"
     ]
    }
   ],
   "source": [
    "query_url = f\"{NGSI_LD_ENDPOINT}?type=ChargingSession\"\n",
    "\n",
    "response = requests.get(query_url, headers=headers)\n",
    "print(f\"HTTP status: {response.status_code}\")\n",
    "print(f\"info: {response.json()}\")"
   ]
  },
  {
   "cell_type": "code",
   "execution_count": 109,
   "id": "3f84f40b",
   "metadata": {},
   "outputs": [
    {
     "name": "stdout",
     "output_type": "stream",
     "text": [
      "HTTP status: 200\n",
      "info: [{'@context': ['https://raw.githubusercontent.com/chzh63315/DigiEV/1fd2fb3374578aea96ef41b5a49fc03f144f7afd/contexts/datamodels.context-ngsi.jsonld', 'https://uri.etsi.org/ngsi-ld/v1/ngsi-ld-core-context-v1.8.jsonld'], 'id': 'urn:ngsi-ld:ChargingSession:session-512840826', 'type': 'ChargingSession', 'authenticationId': {'type': 'Property', 'value': '1'}, 'authenticationMethod': {'type': 'Property', 'value': 'RFID'}, 'chargingDuration': {'type': 'Property', 'value': 25, 'units': {'type': 'Property', 'value': 'MIN'}}, 'chargingStartTime': {'type': 'Property', 'value': {'@type': 'DateTime', '@value': '2025-06-18T15:58:04.967279Z'}}, 'dateCreated': {'type': 'Property', 'value': {'@type': 'DateTime', '@value': '2025-06-18T15:57:34.967279Z'}}, 'lastUpdated': {'type': 'Property', 'value': {'@type': 'DateTime', '@value': '2025-06-18T15:57:34.967786Z'}}, 'refChargingPoint': {'type': 'Relationship', 'object': 'urn:ngsi-ld:ChargingPoint:E4C-001-CP-001'}, 'refVehicleStatus': {'type': 'Relationship', 'object': 'urn:ngsi-ld:E-VehicleStatus:vehicle-001-status'}, 'sessionDuration': {'type': 'Property', 'value': 25.5, 'units': {'type': 'Property', 'value': 'MIN'}}, 'sessionId': {'type': 'Property', 'value': '512840826'}, 'sessionStartTime': {'type': 'Property', 'value': {'@type': 'DateTime', '@value': '2025-06-18T15:57:34.967279Z'}}, 'sessionStatus': {'type': 'Property', 'value': 'charging'}, 'sessionType': {'type': 'Property', 'value': 'AC-Level2'}, 'userId': {'type': 'Property', 'value': 'RemoteApp'}}]\n"
     ]
    }
   ],
   "source": [
    "query_url = f\"{NGSI_LD_ENDPOINT}?type=ChargingSession&q=refChargingPoint==\\\"urn:ngsi-ld:ChargingPoint:E4C-001-CP-001\\\"\"\n",
    "\n",
    "response = requests.get(query_url, headers=headers)\n",
    "\n",
    "print(f\"HTTP status: {response.status_code}\")\n",
    "print(f\"info: {response.json()}\")"
   ]
  },
  {
   "cell_type": "markdown",
   "id": "30cb72b0",
   "metadata": {},
   "source": []
  }
 ],
 "metadata": {
  "kernelspec": {
   "display_name": "base",
   "language": "python",
   "name": "python3"
  },
  "language_info": {
   "codemirror_mode": {
    "name": "ipython",
    "version": 3
   },
   "file_extension": ".py",
   "mimetype": "text/x-python",
   "name": "python",
   "nbconvert_exporter": "python",
   "pygments_lexer": "ipython3",
   "version": "3.11.5"
  }
 },
 "nbformat": 4,
 "nbformat_minor": 5
}
