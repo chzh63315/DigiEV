{
 "cells": [
  {
   "cell_type": "code",
   "execution_count": 2,
   "id": "9ed2806b",
   "metadata": {},
   "outputs": [
    {
     "name": "stdout",
     "output_type": "stream",
     "text": [
      "Orion-LD URL: http://localhost:1026\n"
     ]
    }
   ],
   "source": [
    "import requests\n",
    "from datetime import datetime, timedelta\n",
    "\n",
    "ORION_URL = \"http://localhost:1026\"\n",
    "NGSI_LD_ENDPOINT = f\"{ORION_URL}/ngsi-ld/v1/entities\"\n",
    "\n",
    "print(f\"Orion-LD URL: {ORION_URL}\")"
   ]
  },
  {
   "cell_type": "code",
   "execution_count": 3,
   "id": "4cd50029",
   "metadata": {},
   "outputs": [
    {
     "name": "stdout",
     "output_type": "stream",
     "text": [
      "{'orionld version': '1.4.0', 'orion version': '1.15.0-next', 'uptime': '0 d, 6 h, 48 m, 44 s', 'git_hash': 'nogitversion', 'compile_time': 'Sat Aug 26 06:19:09 UTC 2023', 'compiled_by': 'root', 'compiled_in': '', 'release_date': 'Sat Aug 26 06:19:09 UTC 2023', 'doc': 'https://fiware-orion.readthedocs.org/en/master/'}\n"
     ]
    }
   ],
   "source": [
    "response = requests.get(f\"{ORION_URL}/version\")\n",
    "print(response.json())"
   ]
  },
  {
   "cell_type": "code",
   "execution_count": 29,
   "id": "0ccf3cd8",
   "metadata": {},
   "outputs": [],
   "source": [
    "# charging session\n",
    "\n",
    "session_start = datetime.now()\n",
    "charging_start = session_start + timedelta(minutes=0.5)  \n",
    "\n",
    "se_001 = {\n",
    "#    \"@context\": \"https://raw.githubusercontent.com/chzh63315/DigiEV/1fd2fb3374578aea96ef41b5a49fc03f144f7afd/contexts/datamodels.context-ngsi.jsonld\",    \n",
    "    \n",
    "    # required\n",
    "      \"id\": \"urn:ngsi-ld:ChargingSession:session-512840826\",\n",
    "      \"type\": \"ChargingSession\",\n",
    "\n",
    "    # required\n",
    "      \"refChargingPoint\": {\n",
    "          \"type\": \"Relationship\",\n",
    "          \"object\": \"urn:ngsi-ld:ChargingPoint:ParisSaclay30-1-P-01\"\n",
    "      },\n",
    "      \n",
    "      \"sessionId\": {\n",
    "          \"type\": \"Property\",\n",
    "          \"value\": \"512840826\"\n",
    "      },\n",
    "\n",
    "    # required\n",
    "      \"sessionStatus\": {\n",
    "          \"type\": \"Property\",\n",
    "          \"value\": \"ended\"\n",
    "      },\n",
    "      \"sessionType\": {\n",
    "          \"type\": \"Property\",\n",
    "          \"value\": \"AC-Level2\"\n",
    "      },\n",
    "      \n",
    "    # required\n",
    "      \"sessionStartTime\": {\n",
    "          \"type\": \"Property\",\n",
    "          \"value\": {\n",
    "              \"@type\": \"DateTime\",\n",
    "              \"@value\": session_start.isoformat() + \"Z\"\n",
    "          }\n",
    "      },\n",
    "\n",
    "    # required\n",
    "      \"chargingStartTime\": {\n",
    "          \"type\": \"Property\",\n",
    "          \"value\": {\n",
    "              \"@type\": \"DateTime\",\n",
    "              \"@value\": charging_start.isoformat() + \"Z\"\n",
    "          }\n",
    "      },\n",
    "      \n",
    "      \"sessionDuration\": {\n",
    "          \"type\": \"Property\",\n",
    "          \"value\": 25.5,\n",
    "          \"units\": \"MIN\",\n",
    "      },\n",
    "   \n",
    "      \"userId\": {\n",
    "          \"type\": \"Property\",\n",
    "          \"value\": \"RemoteApp\"\n",
    "      },\n",
    "      \"authenticationMethod\": {\n",
    "          \"type\": \"Property\",\n",
    "          \"value\": \"RFID\"\n",
    "      },\n",
    "      \"authenticationId\": {\n",
    "          \"type\": \"Property\",\n",
    "          \"value\": \"1\"\n",
    "      },\n",
    "\n",
    "      \"dateCreated\": {\n",
    "          \"type\": \"Property\",\n",
    "          \"value\": {\n",
    "              \"@type\": \"DateTime\",\n",
    "              \"@value\": session_start.isoformat() + \"Z\"\n",
    "          }\n",
    "      },\n",
    "\n",
    "    # required\n",
    "      \"lastUpdated\": {\n",
    "          \"type\": \"Property\",\n",
    "          \"value\": {\n",
    "              \"@type\": \"DateTime\",\n",
    "              \"@value\": datetime.now().isoformat() + \"Z\"\n",
    "          }\n",
    "      }\n",
    "  }"
   ]
  },
  {
   "cell_type": "code",
   "execution_count": 5,
   "id": "1f44225c",
   "metadata": {},
   "outputs": [],
   "source": [
    "# headers = {\n",
    "#     \"Content-Type\": \"application/ld+json\",\n",
    "#     \"Accept\": \"application/ld+json\"\n",
    "# }\n",
    "\n",
    "headers = {\n",
    "    'Content-Type': 'application/json',\n",
    "    'Accept': 'application/ld+json',\n",
    "    'Link': '<https://raw.githubusercontent.com/chzh63315/DigiEV/1fd2fb3374578aea96ef41b5a49fc03f144f7afd/contexts/datamodels.context-ngsi.jsonld>; rel=\"http://www.w3.org/ns/json-ld#context\"; type=\"application/ld+json\"'\n",
    "}"
   ]
  },
  {
   "cell_type": "code",
   "execution_count": 34,
   "id": "014a5bd9",
   "metadata": {},
   "outputs": [
    {
     "name": "stdout",
     "output_type": "stream",
     "text": [
      "HTTP statu: 409\n",
      "info: {\"type\":\"https://uri.etsi.org/ngsi-ld/errors/AlreadyExists\",\"title\":\"Entity already exists\",\"detail\":\"urn:ngsi-ld:ChargingSession:session-512840826\"}\n"
     ]
    }
   ],
   "source": [
    "response = requests.post(\n",
    "    NGSI_LD_ENDPOINT,\n",
    "    json=se_001,\n",
    "    headers=headers\n",
    ")\n",
    "\n",
    "print(f\"HTTP statu: {response.status_code}\")\n",
    "print(f\"info: {response.text}\")"
   ]
  },
  {
   "cell_type": "code",
   "execution_count": 7,
   "id": "69143e2b",
   "metadata": {},
   "outputs": [
    {
     "name": "stdout",
     "output_type": "stream",
     "text": [
      "HTTP status: 200\n",
      "info: []\n"
     ]
    }
   ],
   "source": [
    "query_url = f\"{NGSI_LD_ENDPOINT}?type=ChargingStation\"\n",
    "\n",
    "response = requests.get(query_url, headers=headers)\n",
    "print(f\"HTTP status: {response.status_code}\")\n",
    "print(f\"info: {response.json()}\")"
   ]
  },
  {
   "cell_type": "code",
   "execution_count": 38,
   "id": "bedaeac1",
   "metadata": {},
   "outputs": [
    {
     "name": "stdout",
     "output_type": "stream",
     "text": [
      "HTTP status: 200\n",
      "info: [{'@context': 'https://raw.githubusercontent.com/chzh63315/DigiEV/1fd2fb3374578aea96ef41b5a49fc03f144f7afd/contexts/datamodels.context-ngsi.jsonld', 'id': 'urn:ngsi-ld:ChargingSession:session-512840826', 'type': 'ChargingSession', 'authenticationId': {'type': 'Property', 'value': '1'}, 'authenticationMethod': {'type': 'Property', 'value': 'RFID'}, 'chargingDuration': {'type': 'Property', 'value': 25, 'units': {'type': 'Property', 'value': 'MIN'}}, 'chargingStartTime': {'type': 'Property', 'value': {'@type': 'DateTime', '@value': '2025-06-24T21:08:17.908435Z'}}, 'dateCreated': {'type': 'Property', 'value': {'@type': 'DateTime', '@value': '2025-06-24T21:07:47.908435Z'}}, 'lastUpdated': {'type': 'Property', 'value': {'@type': 'DateTime', '@value': '2025-06-24T21:07:47.909231Z'}}, 'refChargingPoint': {'type': 'Relationship', 'object': 'urn:ngsi-ld:ChargingPoint:E4C-001-CP-001'}, 'refVehicleStatus': {'type': 'Relationship', 'object': 'urn:ngsi-ld:E-VehicleStatus:vehicle-001-status'}, 'sessionDuration': {'type': 'Property', 'value': 25.5, 'units': {'type': 'Property', 'value': 'MIN'}}, 'sessionId': {'type': 'Property', 'value': '512840826'}, 'sessionStartTime': {'type': 'Property', 'value': {'@type': 'DateTime', '@value': '2025-06-24T21:07:47.908435Z'}}, 'sessionStatus': {'type': 'Property', 'value': 'charging'}, 'sessionType': {'type': 'Property', 'value': 'AC-Level2'}, 'userId': {'type': 'Property', 'value': 'RemoteApp'}}]\n"
     ]
    }
   ],
   "source": [
    "query_url = f\"{NGSI_LD_ENDPOINT}?type=ChargingSession\"\n",
    "\n",
    "response = requests.get(query_url, headers=headers)\n",
    "print(f\"HTTP status: {response.status_code}\")\n",
    "print(f\"info: {response.json()}\")"
   ]
  },
  {
   "cell_type": "code",
   "execution_count": 8,
   "id": "3f84f40b",
   "metadata": {},
   "outputs": [
    {
     "name": "stdout",
     "output_type": "stream",
     "text": [
      "HTTP status: 200\n",
      "info: []\n"
     ]
    }
   ],
   "source": [
    "query_url = f\"{NGSI_LD_ENDPOINT}?type=ChargingSession&q=refChargingPoint==\\\"urn:ngsi-ld:ChargingStation:ParisSaclay30-1-P-01\\\"\"\n",
    "\n",
    "response = requests.get(query_url, headers=headers)\n",
    "\n",
    "print(f\"HTTP status: {response.status_code}\")\n",
    "print(f\"info: {response.json()}\")"
   ]
  },
  {
   "cell_type": "markdown",
   "id": "30cb72b0",
   "metadata": {},
   "source": []
  }
 ],
 "metadata": {
  "kernelspec": {
   "display_name": "base",
   "language": "python",
   "name": "python3"
  },
  "language_info": {
   "codemirror_mode": {
    "name": "ipython",
    "version": 3
   },
   "file_extension": ".py",
   "mimetype": "text/x-python",
   "name": "python",
   "nbconvert_exporter": "python",
   "pygments_lexer": "ipython3",
   "version": "3.12.2"
  }
 },
 "nbformat": 4,
 "nbformat_minor": 5
}
