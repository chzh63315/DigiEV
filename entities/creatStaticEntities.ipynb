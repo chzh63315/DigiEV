{
 "cells": [
  {
   "cell_type": "code",
   "execution_count": 13,
   "id": "9ed2806b",
   "metadata": {},
   "outputs": [
    {
     "name": "stdout",
     "output_type": "stream",
     "text": [
      "Orion-LD URL: http://localhost:1026\n"
     ]
    }
   ],
   "source": [
    "import requests\n",
    "from datetime import datetime, timedelta\n",
    "\n",
    "ORION_URL = \"http://localhost:1026\"\n",
    "NGSI_LD_ENDPOINT = f\"{ORION_URL}/ngsi-ld/v1/entities\"\n",
    "\n",
    "print(f\"Orion-LD URL: {ORION_URL}\")"
   ]
  },
  {
   "cell_type": "code",
   "execution_count": 14,
   "id": "4cd50029",
   "metadata": {},
   "outputs": [
    {
     "name": "stdout",
     "output_type": "stream",
     "text": [
      "{'orionld version': '1.4.0', 'orion version': '1.15.0-next', 'uptime': '0 d, 1 h, 22 m, 33 s', 'git_hash': 'nogitversion', 'compile_time': 'Sat Aug 26 06:19:09 UTC 2023', 'compiled_by': 'root', 'compiled_in': '', 'release_date': 'Sat Aug 26 06:19:09 UTC 2023', 'doc': 'https://fiware-orion.readthedocs.org/en/master/'}\n"
     ]
    }
   ],
   "source": [
    "response = requests.get(f\"{ORION_URL}/version\")\n",
    "print(response.json())"
   ]
  },
  {
   "cell_type": "code",
   "execution_count": 15,
   "id": "2c70b71b",
   "metadata": {},
   "outputs": [],
   "source": [
    "# charging station\n",
    "\n",
    "CS_001 = {\n",
    "\n",
    "#    \"@context\": \"https://raw.githubusercontent.com/chzh63315/DigiEV/1fd2fb3374578aea96ef41b5a49fc03f144f7afd/contexts/datamodels.context-ngsi.jsonld\",    \n",
    "\n",
    "    # required\n",
    "    \"id\": \"urn:ngsi-ld:ChargingStation:ParisSaclay30-1\",\n",
    "    \"type\": \"ChargingStation\",\n",
    "\n",
    "    \"stationName\": {\n",
    "        \"type\": \"Property\",\n",
    "        \"value\": \"IPP - Drahi - X\"\n",
    "    },\n",
    "\n",
    "    \"location\": {\n",
    "        \"type\": \"Point\",\n",
    "        \"coordinates\": [2.212206,48.712779]\n",
    "    },\n",
    "\n",
    "    # required\n",
    "    \"totalChargingPoints\": {\n",
    "        \"type\": \"Property\",\n",
    "        \"value\": 1\n",
    "    },\n",
    "\n",
    "    \"maxPowerCapacity\": {\n",
    "        \"type\": \"Property\",\n",
    "        \"value\": 22.0,\n",
    "        \"units\": \"kW\"  \n",
    "    },\n",
    "\n",
    "    \"ratedVoltage\": {\n",
    "        \"type\": \"Property\",\n",
    "        \"value\": 400.0,\n",
    "        \"units\": \"V\"\n",
    "    },\n",
    "\n",
    "    # required\n",
    "    \"socketType\": {\n",
    "        \"type\": \"Property\",\n",
    "        \"value\": [\n",
    "            \"Type2\"\n",
    "        ]\n",
    "    },\n",
    "\n",
    "    \"dateCreated\": {\n",
    "        \"type\": \"Property\",\n",
    "        \"value\": {\n",
    "            \"@type\": \"DateTime\",\n",
    "            \"@value\": datetime.now().isoformat() + \"Z\"\n",
    "        }\n",
    "    }\n",
    "}"
   ]
  },
  {
   "cell_type": "code",
   "execution_count": 16,
   "id": "96721a43",
   "metadata": {},
   "outputs": [],
   "source": [
    "# charging point\n",
    "\n",
    "CP_001 = {\n",
    "#    \"@context\": \"https://raw.githubusercontent.com/chzh63315/DigiEV/1fd2fb3374578aea96ef41b5a49fc03f144f7afd/contexts/datamodels.context-ngsi.jsonld\",    \n",
    "\n",
    "    # required\n",
    "    \"id\": \"urn:ngsi-ld:ChargingPoint:ParisSaclay30-1-P-01\",\n",
    "    \"type\": \"ChargingPoint\",\n",
    "\n",
    "    # required - Relationship to Parent Station\n",
    "    \"refChargingStation\": {\n",
    "        \"type\": \"Relationship\",\n",
    "        \"object\": \"urn:ngsi-ld:ChargingStation:ParisSaclay30-1\"\n",
    "    },\n",
    "\n",
    "    # required\n",
    "    \"chargingType\": {\n",
    "        \"type\": \"Property\",\n",
    "        \"value\": \"AC-Level2\"\n",
    "    },\n",
    "\n",
    "    # required\n",
    "    \"connectorTypes\": {\n",
    "        \"type\": \"Property\",\n",
    "        \"value\": [\n",
    "            \"Type2\"\n",
    "        ]\n",
    "    },\n",
    "\n",
    "    \"powerCapabilities\": {\n",
    "        \"type\": \"Property\",\n",
    "        \"value\": {\n",
    "            \"maxACPower\": 22.0,\n",
    "            \"maxDCPower\": 0,\n",
    "            \"maxVoltage\": 400,\n",
    "            \"maxCurrent\": 32,\n",
    "            \"phases\": 3\n",
    "        }\n",
    "    },\n",
    "\n",
    "    \"communicationProtocol\": {\n",
    "        \"type\": \"Property\",\n",
    "        \"value\": \"OCPP1.6J\"\n",
    "    },\n",
    "\n",
    "    \"refChargingPointStatus\": {\n",
    "        \"type\": \"Relationship\",\n",
    "        \"object\": \"urn:ngsi-ld:ChargingPointStatus:ParisSaclay30-1-P-01-status\"\n",
    "    },\n",
    "\n",
    "    \"dateCreated\": {\n",
    "        \"type\": \"Property\",\n",
    "        \"value\": {\n",
    "            \"@type\": \"DateTime\",\n",
    "            \"@value\": datetime.now().isoformat() + \"Z\"\n",
    "        }\n",
    "    }\n",
    "}"
   ]
  },
  {
   "cell_type": "code",
   "execution_count": 17,
   "id": "e42f668f",
   "metadata": {},
   "outputs": [],
   "source": [
    "# EV\n",
    "\n",
    "EV_001 = {\n",
    "#    \"@context\": \"https://raw.githubusercontent.com/chzh63315/DigiEV/1fd2fb3374578aea96ef41b5a49fc03f144f7afd/contexts/datamodels.context-ngsi.jsonld\",    \n",
    "\n",
    "    # required\n",
    "    \"id\": \"urn:ngsi-ld:E-Vehicle:EV-001\",\n",
    "    \"type\": \"E-Vehicle\",\n",
    "\n",
    "    # required\n",
    "    \"vehiclePlateIdentifier\": {\n",
    "        \"type\": \"Property\",\n",
    "        \"value\": \"EE-049-CE\"\n",
    "    },\n",
    "\n",
    "    # required\n",
    "    \"brand\": {\n",
    "        \"type\": \"Property\",\n",
    "        \"value\": \"Renault\"\n",
    "    },\n",
    "\n",
    "    \"color\": {\n",
    "        \"type\": \"Property\",\n",
    "        \"value\": \"white\"\n",
    "    },\n",
    "\n",
    "    # required\n",
    "    \"batterySpecifications\": {\n",
    "        \"type\": \"Property\",\n",
    "        \"value\": {\n",
    "            \"totalCapacity\": 52.0,\n",
    "            \"batteryType\": \"lithium-ion\",\n",
    "            \"nominalVoltage\": 400\n",
    "        }\n",
    "    },\n",
    "\n",
    "    # required\n",
    "    \"chargingCapabilities\": {\n",
    "        \"type\": \"Property\",\n",
    "        \"value\": {\n",
    "            \"maxChargingPowerAC\": 22.0,\n",
    "            \"maxChargingPowerDC\": 130.0,\n",
    "            \"chargingPortTypes\": [\n",
    "                \"Type2\",\n",
    "                \"CCS2\"\n",
    "            ],\n",
    "            \"chargingStandards\": [\n",
    "                \"AC-Level2\",\n",
    "                \"DC-FastCharging\"\n",
    "            ]\n",
    "        }\n",
    "    },\n",
    "\n",
    "    # required\n",
    "    \"refVehicleStatus\": {\n",
    "        \"type\": \"Relationship\",\n",
    "        \"object\": \"urn:ngsi-ld:E-VehicleStatus:EV-001-status\"\n",
    "    },\n",
    "\n",
    "    # required\n",
    "    \"vehicleType\": {\n",
    "        \"type\": \"Property\",\n",
    "        \"value\": \"car\"\n",
    "    },\n",
    "\n",
    "    \"dateCreated\": {\n",
    "        \"type\": \"Property\",\n",
    "        \"value\": {\n",
    "            \"@type\": \"DateTime\",\n",
    "            \"@value\": datetime.now().isoformat() + \"Z\"\n",
    "        }\n",
    "    }\n",
    "}"
   ]
  },
  {
   "cell_type": "code",
   "execution_count": 18,
   "id": "1f44225c",
   "metadata": {},
   "outputs": [],
   "source": [
    "# headers = {\n",
    "#     \"Content-Type\": \"application/ld+json\",\n",
    "#     \"Accept\": \"application/ld+json\"\n",
    "# }\n",
    "\n",
    "headers = {\n",
    "    'Content-Type': 'application/json',\n",
    "    'Accept': 'application/ld+json',\n",
    "    'Link': '<https://raw.githubusercontent.com/chzh63315/DigiEV/refs/heads/main/contexts/datamodels.context-ngsi.jsonld>; rel=\"http://www.w3.org/ns/json-ld#context\"; type=\"application/ld+json\"'\n",
    "}"
   ]
  },
  {
   "cell_type": "code",
   "execution_count": 19,
   "id": "15623d9d",
   "metadata": {},
   "outputs": [
    {
     "name": "stdout",
     "output_type": "stream",
     "text": [
      "HTTP statu: 201\n",
      "info: \n"
     ]
    }
   ],
   "source": [
    "response = requests.post(\n",
    "    NGSI_LD_ENDPOINT,\n",
    "    json=CS_001,\n",
    "    headers=headers\n",
    ")\n",
    "\n",
    "print(f\"HTTP statu: {response.status_code}\")\n",
    "print(f\"info: {response.text}\")"
   ]
  },
  {
   "cell_type": "code",
   "execution_count": 20,
   "id": "2d078f3b",
   "metadata": {},
   "outputs": [
    {
     "name": "stdout",
     "output_type": "stream",
     "text": [
      "HTTP statu: 409\n",
      "info: {\"type\":\"https://uri.etsi.org/ngsi-ld/errors/AlreadyExists\",\"title\":\"Entity already exists\",\"detail\":\"urn:ngsi-ld:ChargingPoint:ParisSaclay30-1-P-01\"}\n"
     ]
    }
   ],
   "source": [
    "response = requests.post(\n",
    "    NGSI_LD_ENDPOINT,\n",
    "    json=CP_001,\n",
    "    headers=headers\n",
    ")\n",
    "\n",
    "print(f\"HTTP statu: {response.status_code}\")\n",
    "print(f\"info: {response.text}\")"
   ]
  },
  {
   "cell_type": "code",
   "execution_count": 21,
   "id": "0c982e1d",
   "metadata": {},
   "outputs": [
    {
     "name": "stdout",
     "output_type": "stream",
     "text": [
      "HTTP statu: 409\n",
      "info: {\"type\":\"https://uri.etsi.org/ngsi-ld/errors/AlreadyExists\",\"title\":\"Entity already exists\",\"detail\":\"urn:ngsi-ld:E-Vehicle:EV-001\"}\n"
     ]
    }
   ],
   "source": [
    "response = requests.post(\n",
    "    NGSI_LD_ENDPOINT,\n",
    "    json=EV_001,\n",
    "    headers=headers\n",
    ")\n",
    "\n",
    "print(f\"HTTP statu: {response.status_code}\")\n",
    "print(f\"info: {response.text}\")"
   ]
  },
  {
   "cell_type": "code",
   "execution_count": 22,
   "id": "55b4c818",
   "metadata": {},
   "outputs": [
    {
     "name": "stdout",
     "output_type": "stream",
     "text": [
      "HTTP status: 200\n",
      "info: {'@context': 'https://raw.githubusercontent.com/chzh63315/DigiEV/refs/heads/main/contexts/datamodels.context-ngsi.jsonld', 'id': 'urn:ngsi-ld:ChargingStation:ParisSaclay30-1', 'type': 'ChargingStation', 'stationName': {'type': 'Property', 'value': 'IPP - Drahi - X'}, 'location': {'type': 'GeoProperty', 'value': {'type': 'Point', 'coordinates': [2.212206, 48.712779]}}, 'totalChargingPoints': {'type': 'Property', 'value': 1}, 'maxPowerCapacity': {'type': 'Property', 'value': 22, 'units': {'type': 'Property', 'value': 'kW'}}, 'ratedVoltage': {'type': 'Property', 'value': 400, 'units': {'type': 'Property', 'value': 'V'}}, 'socketType': {'type': 'Property', 'value': 'Type2'}, 'dateCreated': {'type': 'Property', 'value': {'@type': 'DateTime', '@value': '2025-06-27T17:28:42.788618Z'}}}\n"
     ]
    }
   ],
   "source": [
    "entity_id = \"urn:ngsi-ld:ChargingStation:ParisSaclay30-1\"\n",
    "query_url = f\"{NGSI_LD_ENDPOINT}/{entity_id}\"\n",
    "\n",
    "response = requests.get(query_url, headers=headers)\n",
    "\n",
    "print(f\"HTTP status: {response.status_code}\")\n",
    "print(f\"info: {response.json()}\")"
   ]
  },
  {
   "cell_type": "code",
   "execution_count": 23,
   "id": "69143e2b",
   "metadata": {},
   "outputs": [
    {
     "name": "stdout",
     "output_type": "stream",
     "text": [
      "HTTP status: 200\n",
      "info: [{'@context': 'https://raw.githubusercontent.com/chzh63315/DigiEV/refs/heads/main/contexts/datamodels.context-ngsi.jsonld', 'id': 'urn:ngsi-ld:ChargingStation:ParisSaclay30-1', 'type': 'ChargingStation', 'dateCreated': {'type': 'Property', 'value': {'@type': 'DateTime', '@value': '2025-06-27T17:28:42.788618Z'}}, 'maxPowerCapacity': {'type': 'Property', 'value': 22, 'units': {'type': 'Property', 'value': 'kW'}}, 'ratedVoltage': {'type': 'Property', 'value': 400, 'units': {'type': 'Property', 'value': 'V'}}, 'socketType': {'type': 'Property', 'value': 'Type2'}, 'stationName': {'type': 'Property', 'value': 'IPP - Drahi - X'}, 'totalChargingPoints': {'type': 'Property', 'value': 1}, 'location': {'type': 'GeoProperty', 'value': {'type': 'Point', 'coordinates': [2.212206, 48.712779]}}}]\n"
     ]
    }
   ],
   "source": [
    "query_url = f\"{NGSI_LD_ENDPOINT}?type=ChargingStation\"\n",
    "\n",
    "response = requests.get(query_url, headers=headers)\n",
    "print(f\"HTTP status: {response.status_code}\")\n",
    "print(f\"info: {response.json()}\")"
   ]
  },
  {
   "cell_type": "code",
   "execution_count": 24,
   "id": "d35e7cb1",
   "metadata": {},
   "outputs": [
    {
     "name": "stdout",
     "output_type": "stream",
     "text": [
      "HTTP status: 204\n",
      "info: \n"
     ]
    }
   ],
   "source": [
    "entity_id = \"urn:ngsi-ld:ChargingStation:ParisSaclay30-1\"\n",
    "delete_url = f\"{NGSI_LD_ENDPOINT}/{entity_id}\"\n",
    "\n",
    "response = requests.delete(delete_url, headers=headers)\n",
    "\n",
    "print(f\"HTTP status: {response.status_code}\")\n",
    "print(f\"info: {response.text}\")"
   ]
  },
  {
   "cell_type": "markdown",
   "id": "30cb72b0",
   "metadata": {},
   "source": []
  }
 ],
 "metadata": {
  "kernelspec": {
   "display_name": "base",
   "language": "python",
   "name": "python3"
  },
  "language_info": {
   "codemirror_mode": {
    "name": "ipython",
    "version": 3
   },
   "file_extension": ".py",
   "mimetype": "text/x-python",
   "name": "python",
   "nbconvert_exporter": "python",
   "pygments_lexer": "ipython3",
   "version": "3.12.2"
  }
 },
 "nbformat": 4,
 "nbformat_minor": 5
}
