{
 "cells": [
  {
   "cell_type": "code",
   "execution_count": 17,
   "id": "9ed2806b",
   "metadata": {},
   "outputs": [
    {
     "name": "stdout",
     "output_type": "stream",
     "text": [
      "Orion-LD URL: http://localhost:1026\n"
     ]
    }
   ],
   "source": [
    "\n",
    "import requests\n",
    "from datetime import datetime, timedelta\n",
    "\n",
    "ORION_URL = \"http://localhost:1026\"\n",
    "NGSI_LD_ENDPOINT = f\"{ORION_URL}/ngsi-ld/v1/entities\"\n",
    "\n",
    "print(f\"Orion-LD URL: {ORION_URL}\")"
   ]
  },
  {
   "cell_type": "code",
   "execution_count": 18,
   "id": "4cd50029",
   "metadata": {},
   "outputs": [
    {
     "name": "stdout",
     "output_type": "stream",
     "text": [
      "{'orionld version': '1.4.0', 'orion version': '1.15.0-next', 'uptime': '0 d, 2 h, 55 m, 59 s', 'git_hash': 'nogitversion', 'compile_time': 'Sat Aug 26 06:19:09 UTC 2023', 'compiled_by': 'root', 'compiled_in': '', 'release_date': 'Sat Aug 26 06:19:09 UTC 2023', 'doc': 'https://fiware-orion.readthedocs.org/en/master/'}\n"
     ]
    }
   ],
   "source": [
    "response = requests.get(f\"{ORION_URL}/version\")\n",
    "print(response.json())"
   ]
  },
  {
   "cell_type": "code",
   "execution_count": 19,
   "id": "2c70b71b",
   "metadata": {},
   "outputs": [],
   "source": [
    "# charging station\n",
    "\n",
    "CS_001 = {\n",
    "\n",
    "#    \"@context\": \"https://raw.githubusercontent.com/chzh63315/DigiEV/1fd2fb3374578aea96ef41b5a49fc03f144f7afd/contexts/datamodels.context-ngsi.jsonld\",    \n",
    "\n",
    "    # required\n",
    "    \"id\": \"urn:ngsi-ld:ChargingStation:E4C-001\",\n",
    "    \"type\": \"ChargingStation\",\n",
    "\n",
    "    \"stationName\": {\n",
    "        \"type\": \"Property\",\n",
    "        \"value\": \"IPP - Drahi - X\"\n",
    "    },\n",
    "\n",
    "    # required\n",
    "    \"totalChargingPoints\": {\n",
    "        \"type\": \"Property\",\n",
    "        \"value\": 1\n",
    "    },\n",
    "\n",
    "    \"maxPowerCapacity\": {\n",
    "        \"type\": \"Property\",\n",
    "        \"value\": 22.0,\n",
    "        \"units\": \"kW\"  \n",
    "    },\n",
    "\n",
    "    \"ratedVoltage\": {\n",
    "        \"type\": \"Property\",\n",
    "        \"value\": 400.0,\n",
    "        \"units\": \"V\"\n",
    "    },\n",
    "\n",
    "    # required\n",
    "    \"socketType\": {\n",
    "        \"type\": \"Property\",\n",
    "        \"value\": [\n",
    "            \"Type2\"\n",
    "        ]\n",
    "    },\n",
    "\n",
    "    \"dateCreated\": {\n",
    "        \"type\": \"Property\",\n",
    "        \"value\": {\n",
    "            \"@type\": \"DateTime\",\n",
    "            \"@value\": datetime.now().isoformat() + \"Z\"\n",
    "        }\n",
    "    }\n",
    "}"
   ]
  },
  {
   "cell_type": "code",
   "execution_count": 20,
   "id": "96721a43",
   "metadata": {},
   "outputs": [],
   "source": [
    "# charging point\n",
    "\n",
    "CP_001 = {\n",
    "#    \"@context\": \"https://raw.githubusercontent.com/chzh63315/DigiEV/1fd2fb3374578aea96ef41b5a49fc03f144f7afd/contexts/datamodels.context-ngsi.jsonld\",    \n",
    "\n",
    "    # required\n",
    "    \"id\": \"urn:ngsi-ld:ChargingPoint:E4C-001-CP-001\",\n",
    "    \"type\": \"ChargingPoint\",\n",
    "\n",
    "    # required - Relationship to Parent Station\n",
    "    \"refChargingStation\": {\n",
    "        \"type\": \"Relationship\",\n",
    "        \"object\": \"urn:ngsi-ld:ChargingStation:E4C-001\"\n",
    "    },\n",
    "\n",
    "    \"pointId\": {\n",
    "        \"type\": \"Property\",\n",
    "        \"value\": \"CP-030-1-001\"\n",
    "    },\n",
    "\n",
    "    # required\n",
    "    \"chargingType\": {\n",
    "        \"type\": \"Property\",\n",
    "        \"value\": \"AC-Level2\"\n",
    "    },\n",
    "\n",
    "    # required\n",
    "    \"connectorTypes\": {\n",
    "        \"type\": \"Property\",\n",
    "        \"value\": [\n",
    "            \"Type2\"\n",
    "        ]\n",
    "    },\n",
    "\n",
    "    \"powerCapabilities\": {\n",
    "        \"type\": \"Property\",\n",
    "        \"value\": {\n",
    "            \"maxACPower\": 22.0,\n",
    "            \"maxDCPower\": 0,\n",
    "            \"maxVoltage\": 400,\n",
    "            \"maxCurrent\": 32,\n",
    "            \"phases\": 3\n",
    "        }\n",
    "    },\n",
    "\n",
    "    \"communicationProtocol\": {\n",
    "        \"type\": \"Property\",\n",
    "        \"value\": \"OCPP1.6J\"\n",
    "    },\n",
    "\n",
    "    \"refChargingPointStatus\": {\n",
    "        \"type\": \"Relationship\",\n",
    "        \"object\": \"urn:ngsi-ld:ChargingPointStatus:E4C-001-CP-001-status-0001\"\n",
    "    },\n",
    "\n",
    "    \"dateCreated\": {\n",
    "        \"type\": \"Property\",\n",
    "        \"value\": {\n",
    "            \"@type\": \"DateTime\",\n",
    "            \"@value\": datetime.now().isoformat() + \"Z\"\n",
    "        }\n",
    "    }\n",
    "}"
   ]
  },
  {
   "cell_type": "code",
   "execution_count": 21,
   "id": "e42f668f",
   "metadata": {},
   "outputs": [],
   "source": [
    "# EV\n",
    "\n",
    "EV_001 = {\n",
    "#    \"@context\": \"https://raw.githubusercontent.com/chzh63315/DigiEV/1fd2fb3374578aea96ef41b5a49fc03f144f7afd/contexts/datamodels.context-ngsi.jsonld\",    \n",
    "\n",
    "    # required\n",
    "    \"id\": \"urn:ngsi-ld:E-Vehicle:EV-001\",\n",
    "    \"type\": \"E-Vehicle\",\n",
    "\n",
    "    # required\n",
    "    \"vehiclePlateIdentifier\": {\n",
    "        \"type\": \"Property\",\n",
    "        \"value\": \"EE-049-CE\"\n",
    "    },\n",
    "\n",
    "    # required\n",
    "    \"brand\": {\n",
    "        \"type\": \"Property\",\n",
    "        \"value\": \"Renault\"\n",
    "    },\n",
    "\n",
    "    \"color\": {\n",
    "        \"type\": \"Property\",\n",
    "        \"value\": \"white\"\n",
    "    },\n",
    "\n",
    "    # required\n",
    "    \"batterySpecifications\": {\n",
    "        \"type\": \"Property\",\n",
    "        \"value\": {\n",
    "            \"totalCapacity\": 52.0,\n",
    "            \"batteryType\": \"lithium-ion\",\n",
    "            \"nominalVoltage\": 400\n",
    "        }\n",
    "    },\n",
    "\n",
    "    # required\n",
    "    \"chargingCapabilities\": {\n",
    "        \"type\": \"Property\",\n",
    "        \"value\": {\n",
    "            \"maxChargingPowerAC\": 22.0,\n",
    "            \"maxChargingPowerDC\": 130.0,\n",
    "            \"chargingPortTypes\": [\n",
    "                \"Type2\",\n",
    "                \"CCS2\"\n",
    "            ],\n",
    "            \"chargingStandards\": [\n",
    "                \"AC-Level2\",\n",
    "                \"DC-FastCharging\"\n",
    "            ]\n",
    "        }\n",
    "    },\n",
    "\n",
    "    # required\n",
    "    \"refVehicleStatus\": {\n",
    "        \"type\": \"Relationship\",\n",
    "        \"object\": \"urn:ngsi-ld:E-VehicleStatus:EV-001-status-0001\"\n",
    "    },\n",
    "\n",
    "    # required\n",
    "    \"vehicleType\": {\n",
    "        \"type\": \"Property\",\n",
    "        \"value\": \"car\"\n",
    "    },\n",
    "\n",
    "    \"dateCreated\": {\n",
    "        \"type\": \"Property\",\n",
    "        \"value\": {\n",
    "            \"@type\": \"DateTime\",\n",
    "            \"@value\": datetime.now().isoformat() + \"Z\"\n",
    "        }\n",
    "    }\n",
    "}"
   ]
  },
  {
   "cell_type": "code",
   "execution_count": 22,
   "id": "0ccf3cd8",
   "metadata": {},
   "outputs": [],
   "source": [
    "# charging session\n",
    "\n",
    "session_start = datetime.now()\n",
    "charging_start = session_start + timedelta(minutes=0.5)  \n",
    "\n",
    "se_001 = {\n",
    "#    \"@context\": \"https://raw.githubusercontent.com/chzh63315/DigiEV/1fd2fb3374578aea96ef41b5a49fc03f144f7afd/contexts/datamodels.context-ngsi.jsonld\",    \n",
    "    \n",
    "    # required\n",
    "      \"id\": \"urn:ngsi-ld:ChargingSession:session-512840826\",\n",
    "      \"type\": \"ChargingSession\",\n",
    "\n",
    "    # required      \n",
    "      \"refVehicleStatus\": {\n",
    "          \"type\": \"Relationship\",\n",
    "          \"object\": \"urn:ngsi-ld:E-VehicleStatus:vehicle-001-status\"\n",
    "      },\n",
    "\n",
    "    # required\n",
    "      \"refChargingPoint\": {\n",
    "          \"type\": \"Relationship\",\n",
    "          \"object\": \"urn:ngsi-ld:ChargingPoint:E4C-001-CP-001\"\n",
    "      },\n",
    "      \n",
    "      \"sessionId\": {\n",
    "          \"type\": \"Property\",\n",
    "          \"value\": \"512840826\"\n",
    "      },\n",
    "\n",
    "    # required\n",
    "      \"sessionStatus\": {\n",
    "          \"type\": \"Property\",\n",
    "          \"value\": \"charging\"\n",
    "      },\n",
    "      \"sessionType\": {\n",
    "          \"type\": \"Property\",\n",
    "          \"value\": \"AC-Level2\"\n",
    "      },\n",
    "      \n",
    "    # required\n",
    "      \"sessionStartTime\": {\n",
    "          \"type\": \"Property\",\n",
    "          \"value\": {\n",
    "              \"@type\": \"DateTime\",\n",
    "              \"@value\": session_start.isoformat() + \"Z\"\n",
    "          }\n",
    "      },\n",
    "\n",
    "    # required\n",
    "      \"chargingStartTime\": {\n",
    "          \"type\": \"Property\",\n",
    "          \"value\": {\n",
    "              \"@type\": \"DateTime\",\n",
    "              \"@value\": charging_start.isoformat() + \"Z\"\n",
    "          }\n",
    "      },\n",
    "      \n",
    "      \"sessionDuration\": {\n",
    "          \"type\": \"Property\",\n",
    "          \"value\": 25.5,\n",
    "          \"units\": \"MIN\",\n",
    "      },\n",
    "\n",
    "\n",
    "      \"chargingDuration\": {\n",
    "          \"type\": \"Property\",\n",
    "          \"value\": 25.0,\n",
    "          \"units\": \"MIN\",\n",
    "      },\n",
    "      \n",
    "\n",
    "      \"userId\": {\n",
    "          \"type\": \"Property\",\n",
    "          \"value\": \"RemoteApp\"\n",
    "      },\n",
    "      \"authenticationMethod\": {\n",
    "          \"type\": \"Property\",\n",
    "          \"value\": \"RFID\"\n",
    "      },\n",
    "      \"authenticationId\": {\n",
    "          \"type\": \"Property\",\n",
    "          \"value\": \"1\"\n",
    "      },\n",
    "\n",
    "      \"dateCreated\": {\n",
    "          \"type\": \"Property\",\n",
    "          \"value\": {\n",
    "              \"@type\": \"DateTime\",\n",
    "              \"@value\": session_start.isoformat() + \"Z\"\n",
    "          }\n",
    "      },\n",
    "\n",
    "    # required\n",
    "      \"lastUpdated\": {\n",
    "          \"type\": \"Property\",\n",
    "          \"value\": {\n",
    "              \"@type\": \"DateTime\",\n",
    "              \"@value\": datetime.now().isoformat() + \"Z\"\n",
    "          }\n",
    "      }\n",
    "  }"
   ]
  },
  {
   "cell_type": "code",
   "execution_count": 23,
   "id": "1f44225c",
   "metadata": {},
   "outputs": [],
   "source": [
    "# headers = {\n",
    "#     \"Content-Type\": \"application/ld+json\",\n",
    "#     \"Accept\": \"application/ld+json\"\n",
    "# }\n",
    "\n",
    "headers = {\n",
    "    'Content-Type': 'application/json',\n",
    "    'Accept': 'application/ld+json',\n",
    "    'Link': '<https://raw.githubusercontent.com/chzh63315/DigiEV/1fd2fb3374578aea96ef41b5a49fc03f144f7afd/contexts/datamodels.context-ngsi.jsonld>; rel=\"http://www.w3.org/ns/json-ld#context\"; type=\"application/ld+json\"'\n",
    "}"
   ]
  },
  {
   "cell_type": "code",
   "execution_count": 24,
   "id": "15623d9d",
   "metadata": {},
   "outputs": [
    {
     "name": "stdout",
     "output_type": "stream",
     "text": [
      "HTTP statu: 201\n",
      "info: \n"
     ]
    }
   ],
   "source": [
    "response = requests.post(\n",
    "    NGSI_LD_ENDPOINT,\n",
    "    json=CS_001,\n",
    "    headers=headers\n",
    ")\n",
    "\n",
    "print(f\"HTTP statu: {response.status_code}\")\n",
    "print(f\"info: {response.text}\")"
   ]
  },
  {
   "cell_type": "code",
   "execution_count": 25,
   "id": "2d078f3b",
   "metadata": {},
   "outputs": [
    {
     "name": "stdout",
     "output_type": "stream",
     "text": [
      "HTTP statu: 409\n",
      "info: {\"type\":\"https://uri.etsi.org/ngsi-ld/errors/AlreadyExists\",\"title\":\"Entity already exists\",\"detail\":\"urn:ngsi-ld:ChargingPoint:E4C-001-CP-001\"}\n"
     ]
    }
   ],
   "source": [
    "response = requests.post(\n",
    "    NGSI_LD_ENDPOINT,\n",
    "    json=CP_001,\n",
    "    headers=headers\n",
    ")\n",
    "\n",
    "print(f\"HTTP statu: {response.status_code}\")\n",
    "print(f\"info: {response.text}\")"
   ]
  },
  {
   "cell_type": "code",
   "execution_count": 26,
   "id": "0c982e1d",
   "metadata": {},
   "outputs": [
    {
     "name": "stdout",
     "output_type": "stream",
     "text": [
      "HTTP statu: 409\n",
      "info: {\"type\":\"https://uri.etsi.org/ngsi-ld/errors/AlreadyExists\",\"title\":\"Entity already exists\",\"detail\":\"urn:ngsi-ld:E-Vehicle:EV-001\"}\n"
     ]
    }
   ],
   "source": [
    "response = requests.post(\n",
    "    NGSI_LD_ENDPOINT,\n",
    "    json=EV_001,\n",
    "    headers=headers\n",
    ")\n",
    "\n",
    "print(f\"HTTP statu: {response.status_code}\")\n",
    "print(f\"info: {response.text}\")"
   ]
  },
  {
   "cell_type": "code",
   "execution_count": 27,
   "id": "014a5bd9",
   "metadata": {},
   "outputs": [
    {
     "name": "stdout",
     "output_type": "stream",
     "text": [
      "HTTP statu: 409\n",
      "info: {\"type\":\"https://uri.etsi.org/ngsi-ld/errors/AlreadyExists\",\"title\":\"Entity already exists\",\"detail\":\"urn:ngsi-ld:ChargingSession:session-512840826\"}\n"
     ]
    }
   ],
   "source": [
    "response = requests.post(\n",
    "    NGSI_LD_ENDPOINT,\n",
    "    json=se_001,\n",
    "    headers=headers\n",
    ")\n",
    "\n",
    "print(f\"HTTP statu: {response.status_code}\")\n",
    "print(f\"info: {response.text}\")"
   ]
  },
  {
   "cell_type": "code",
   "execution_count": 28,
   "id": "55b4c818",
   "metadata": {},
   "outputs": [
    {
     "name": "stdout",
     "output_type": "stream",
     "text": [
      "HTTP status: 200\n",
      "info: {'@context': 'https://raw.githubusercontent.com/chzh63315/DigiEV/1fd2fb3374578aea96ef41b5a49fc03f144f7afd/contexts/datamodels.context-ngsi.jsonld', 'id': 'urn:ngsi-ld:ChargingStation:E4C-001', 'type': 'ChargingStation', 'stationName': {'type': 'Property', 'value': 'IPP - Drahi - X'}, 'totalChargingPoints': {'type': 'Property', 'value': 1}, 'maxPowerCapacity': {'type': 'Property', 'value': 22, 'units': {'type': 'Property', 'value': 'kW'}}, 'ratedVoltage': {'type': 'Property', 'value': 400, 'units': {'type': 'Property', 'value': 'V'}}, 'socketType': {'type': 'Property', 'value': 'Type2'}, 'dateCreated': {'type': 'Property', 'value': {'@type': 'DateTime', '@value': '2025-06-30T14:15:49.090465Z'}}}\n"
     ]
    }
   ],
   "source": [
    "entity_id = \"urn:ngsi-ld:ChargingStation:E4C-001\"\n",
    "query_url = f\"{NGSI_LD_ENDPOINT}/{entity_id}\"\n",
    "\n",
    "response = requests.get(query_url, headers=headers)\n",
    "\n",
    "print(f\"HTTP status: {response.status_code}\")\n",
    "print(f\"info: {response.json()}\")"
   ]
  },
  {
   "cell_type": "code",
   "execution_count": 29,
   "id": "69143e2b",
   "metadata": {},
   "outputs": [
    {
     "name": "stdout",
     "output_type": "stream",
     "text": [
      "HTTP status: 200\n",
      "info: [{'@context': 'https://raw.githubusercontent.com/chzh63315/DigiEV/1fd2fb3374578aea96ef41b5a49fc03f144f7afd/contexts/datamodels.context-ngsi.jsonld', 'id': 'urn:ngsi-ld:ChargingStation:E4C-001', 'type': 'ChargingStation', 'dateCreated': {'type': 'Property', 'value': {'@type': 'DateTime', '@value': '2025-06-30T14:15:49.090465Z'}}, 'maxPowerCapacity': {'type': 'Property', 'value': 22, 'units': {'type': 'Property', 'value': 'kW'}}, 'ratedVoltage': {'type': 'Property', 'value': 400, 'units': {'type': 'Property', 'value': 'V'}}, 'socketType': {'type': 'Property', 'value': 'Type2'}, 'stationName': {'type': 'Property', 'value': 'IPP - Drahi - X'}, 'totalChargingPoints': {'type': 'Property', 'value': 1}}]\n"
     ]
    }
   ],
   "source": [
    "query_url = f\"{NGSI_LD_ENDPOINT}?type=ChargingStation\"\n",
    "\n",
    "response = requests.get(query_url, headers=headers)\n",
    "print(f\"HTTP status: {response.status_code}\")\n",
    "print(f\"info: {response.json()}\")"
   ]
  },
  {
   "cell_type": "code",
   "execution_count": 30,
   "id": "d35e7cb1",
   "metadata": {},
   "outputs": [
    {
     "name": "stdout",
     "output_type": "stream",
     "text": [
      "HTTP status: 204\n",
      "info: \n"
     ]
    }
   ],
   "source": [
    "entity_id = \"urn:ngsi-ld:ChargingStation:E4C-001\"\n",
    "delete_url = f\"{NGSI_LD_ENDPOINT}/{entity_id}\"\n",
    "\n",
    "response = requests.delete(delete_url, headers=headers)\n",
    "\n",
    "print(f\"HTTP status: {response.status_code}\")\n",
    "print(f\"info: {response.text}\")"
   ]
  },
  {
   "cell_type": "code",
   "execution_count": 31,
   "id": "bedaeac1",
   "metadata": {},
   "outputs": [
    {
     "name": "stdout",
     "output_type": "stream",
     "text": [
      "HTTP status: 200\n",
      "info: [{'@context': 'https://raw.githubusercontent.com/chzh63315/DigiEV/1fd2fb3374578aea96ef41b5a49fc03f144f7afd/contexts/datamodels.context-ngsi.jsonld', 'id': 'urn:ngsi-ld:ChargingSession:session-512840826', 'type': 'ChargingSession', 'authenticationId': {'type': 'Property', 'value': '1'}, 'authenticationMethod': {'type': 'Property', 'value': 'RFID'}, 'chargingDuration': {'type': 'Property', 'value': 25, 'units': {'type': 'Property', 'value': 'MIN'}}, 'chargingStartTime': {'type': 'Property', 'value': {'@type': 'DateTime', '@value': '2025-06-30T11:21:34.759457Z'}}, 'dateCreated': {'type': 'Property', 'value': {'@type': 'DateTime', '@value': '2025-06-30T11:21:04.759457Z'}}, 'lastUpdated': {'type': 'Property', 'value': {'@type': 'DateTime', '@value': '2025-06-30T11:21:04.759779Z'}}, 'refChargingPoint': {'type': 'Relationship', 'object': 'urn:ngsi-ld:ChargingPoint:E4C-001-CP-001'}, 'refVehicleStatus': {'type': 'Relationship', 'object': 'urn:ngsi-ld:E-VehicleStatus:vehicle-001-status'}, 'sessionDuration': {'type': 'Property', 'value': 25.5, 'units': {'type': 'Property', 'value': 'MIN'}}, 'sessionId': {'type': 'Property', 'value': '512840826'}, 'sessionStartTime': {'type': 'Property', 'value': {'@type': 'DateTime', '@value': '2025-06-30T11:21:04.759457Z'}}, 'sessionStatus': {'type': 'Property', 'value': 'charging'}, 'sessionType': {'type': 'Property', 'value': 'AC-Level2'}, 'userId': {'type': 'Property', 'value': 'RemoteApp'}}, {'@context': 'https://raw.githubusercontent.com/chzh63315/DigiEV/1fd2fb3374578aea96ef41b5a49fc03f144f7afd/contexts/datamodels.context-ngsi.jsonld', 'id': 'urn:ngsi-ld:ChargingSession:session-703497342', 'type': 'ChargingSession', 'authenticationId': {'type': 'Property', 'value': '8E47015B'}, 'authenticationMethod': {'type': 'Property', 'value': 'RFID'}, 'dateCreated': {'type': 'Property', 'value': {'@type': 'DateTime', '@value': '2025-05-30T05:42:28+00:00'}}, 'energyConsumed': {'type': 'Property', 'value': 0.504, 'units': {'type': 'Property', 'value': 'kWh'}, 'observedAt': '2025-05-30T05:44:44.000Z'}, 'lastUpdated': {'type': 'Property', 'value': {'@type': 'DateTime', '@value': '2025-06-30T12:19:40.806764Z'}}, 'refChargingPoint': {'type': 'Relationship', 'object': 'urn:ngsi-ld:ChargingPoint:ParisSaclay30-1-P-01'}, 'sessionDuration': {'type': 'Property', 'value': 2.266667, 'units': {'type': 'Property', 'value': 'MIN'}, 'observedAt': '2025-05-30T05:44:44.000Z'}, 'sessionEndTime': {'type': 'Property', 'value': {'@type': 'DateTime', '@value': '2025-05-30T05:44:44+00:00'}, 'observedAt': '2025-05-30T05:44:44.000Z'}, 'sessionId': {'type': 'Property', 'value': '703497342'}, 'sessionStartTime': {'type': 'Property', 'value': {'@type': 'DateTime', '@value': '2025-05-30T05:42:28+00:00'}, 'observedAt': '2025-05-30T05:42:28.000Z'}, 'sessionStatus': {'type': 'Property', 'value': 'ended'}, 'sessionType': {'type': 'Property', 'value': 'AC-Level2'}, 'userId': {'type': 'Property', 'value': '8E47015B'}}, {'@context': 'https://raw.githubusercontent.com/chzh63315/DigiEV/1fd2fb3374578aea96ef41b5a49fc03f144f7afd/contexts/datamodels.context-ngsi.jsonld', 'id': 'urn:ngsi-ld:ChargingSession:session-412512340', 'type': 'ChargingSession', 'authenticationId': {'type': 'Property', 'value': '8E47015B'}, 'authenticationMethod': {'type': 'Property', 'value': 'RFID'}, 'dateCreated': {'type': 'Property', 'value': {'@type': 'DateTime', '@value': '2025-05-29T22:34:44+00:00'}}, 'energyConsumed': {'type': 'Property', 'value': 2.401, 'units': {'type': 'Property', 'value': 'kWh'}, 'observedAt': '2025-05-29T22:45:24.000Z'}, 'lastUpdated': {'type': 'Property', 'value': {'@type': 'DateTime', '@value': '2025-06-30T12:19:40.808936Z'}}, 'refChargingPoint': {'type': 'Relationship', 'object': 'urn:ngsi-ld:ChargingPoint:ParisSaclay30-1-P-01'}, 'sessionDuration': {'type': 'Property', 'value': 10.666667, 'units': {'type': 'Property', 'value': 'MIN'}, 'observedAt': '2025-05-29T22:45:24.000Z'}, 'sessionEndTime': {'type': 'Property', 'value': {'@type': 'DateTime', '@value': '2025-05-29T22:45:24+00:00'}, 'observedAt': '2025-05-29T22:45:24.000Z'}, 'sessionId': {'type': 'Property', 'value': '412512340'}, 'sessionStartTime': {'type': 'Property', 'value': {'@type': 'DateTime', '@value': '2025-05-29T22:34:44+00:00'}, 'observedAt': '2025-05-29T22:34:44.000Z'}, 'sessionStatus': {'type': 'Property', 'value': 'ended'}, 'sessionType': {'type': 'Property', 'value': 'AC-Level2'}, 'userId': {'type': 'Property', 'value': '8E47015B'}}, {'@context': 'https://raw.githubusercontent.com/chzh63315/DigiEV/1fd2fb3374578aea96ef41b5a49fc03f144f7afd/contexts/datamodels.context-ngsi.jsonld', 'id': 'urn:ngsi-ld:ChargingSession:session-852888750', 'type': 'ChargingSession', 'authenticationId': {'type': 'Property', 'value': '8E47015B'}, 'authenticationMethod': {'type': 'Property', 'value': 'RFID'}, 'dateCreated': {'type': 'Property', 'value': {'@type': 'DateTime', '@value': '2025-05-29T10:38:30+00:00'}}, 'energyConsumed': {'type': 'Property', 'value': 8.074, 'units': {'type': 'Property', 'value': 'kWh'}, 'observedAt': '2025-05-29T11:27:56.000Z'}, 'lastUpdated': {'type': 'Property', 'value': {'@type': 'DateTime', '@value': '2025-06-30T12:19:40.812819Z'}}, 'refChargingPoint': {'type': 'Relationship', 'object': 'urn:ngsi-ld:ChargingPoint:ParisSaclay30-1-P-01'}, 'sessionDuration': {'type': 'Property', 'value': 49.433333, 'units': {'type': 'Property', 'value': 'MIN'}, 'observedAt': '2025-05-29T11:27:56.000Z'}, 'sessionEndTime': {'type': 'Property', 'value': {'@type': 'DateTime', '@value': '2025-05-29T11:27:56+00:00'}, 'observedAt': '2025-05-29T11:27:56.000Z'}, 'sessionId': {'type': 'Property', 'value': '852888750'}, 'sessionStartTime': {'type': 'Property', 'value': {'@type': 'DateTime', '@value': '2025-05-29T10:38:30+00:00'}, 'observedAt': '2025-05-29T10:38:30.000Z'}, 'sessionStatus': {'type': 'Property', 'value': 'ended'}, 'sessionType': {'type': 'Property', 'value': 'AC-Level2'}, 'userId': {'type': 'Property', 'value': '8E47015B'}}, {'@context': 'https://raw.githubusercontent.com/chzh63315/DigiEV/1fd2fb3374578aea96ef41b5a49fc03f144f7afd/contexts/datamodels.context-ngsi.jsonld', 'id': 'urn:ngsi-ld:ChargingSession:session-718583992', 'type': 'ChargingSession', 'authenticationId': {'type': 'Property', 'value': '8E47015B'}, 'authenticationMethod': {'type': 'Property', 'value': 'RFID'}, 'dateCreated': {'type': 'Property', 'value': {'@type': 'DateTime', '@value': '2025-05-28T17:00:49+00:00'}}, 'energyConsumed': {'type': 'Property', 'value': 0.856, 'units': {'type': 'Property', 'value': 'kWh'}, 'observedAt': '2025-05-29T06:05:31.000Z'}, 'lastUpdated': {'type': 'Property', 'value': {'@type': 'DateTime', '@value': '2025-06-30T12:19:40.815096Z'}}, 'refChargingPoint': {'type': 'Relationship', 'object': 'urn:ngsi-ld:ChargingPoint:ParisSaclay30-1-P-01'}, 'sessionDuration': {'type': 'Property', 'value': 784.7, 'units': {'type': 'Property', 'value': 'MIN'}, 'observedAt': '2025-05-29T06:05:31.000Z'}, 'sessionEndTime': {'type': 'Property', 'value': {'@type': 'DateTime', '@value': '2025-05-29T06:05:31+00:00'}, 'observedAt': '2025-05-29T06:05:31.000Z'}, 'sessionId': {'type': 'Property', 'value': '718583992'}, 'sessionStartTime': {'type': 'Property', 'value': {'@type': 'DateTime', '@value': '2025-05-28T17:00:49+00:00'}, 'observedAt': '2025-05-28T17:00:49.000Z'}, 'sessionStatus': {'type': 'Property', 'value': 'ended'}, 'sessionType': {'type': 'Property', 'value': 'AC-Level2'}, 'userId': {'type': 'Property', 'value': '8E47015B'}}, {'@context': 'https://raw.githubusercontent.com/chzh63315/DigiEV/1fd2fb3374578aea96ef41b5a49fc03f144f7afd/contexts/datamodels.context-ngsi.jsonld', 'id': 'urn:ngsi-ld:ChargingSession:session-155986737', 'type': 'ChargingSession', 'authenticationId': {'type': 'Property', 'value': '8E47015B'}, 'authenticationMethod': {'type': 'Property', 'value': 'RFID'}, 'dateCreated': {'type': 'Property', 'value': {'@type': 'DateTime', '@value': '2025-05-27T17:32:30+00:00'}}, 'energyConsumed': {'type': 'Property', 'value': 8.102, 'units': {'type': 'Property', 'value': 'kWh'}, 'observedAt': '2025-05-28T08:46:09.000Z'}, 'lastUpdated': {'type': 'Property', 'value': {'@type': 'DateTime', '@value': '2025-06-30T12:19:40.817538Z'}}, 'refChargingPoint': {'type': 'Relationship', 'object': 'urn:ngsi-ld:ChargingPoint:ParisSaclay30-1-P-01'}, 'sessionDuration': {'type': 'Property', 'value': 913.65, 'units': {'type': 'Property', 'value': 'MIN'}, 'observedAt': '2025-05-28T08:46:09.000Z'}, 'sessionEndTime': {'type': 'Property', 'value': {'@type': 'DateTime', '@value': '2025-05-28T08:46:09+00:00'}, 'observedAt': '2025-05-28T08:46:09.000Z'}, 'sessionId': {'type': 'Property', 'value': '155986737'}, 'sessionStartTime': {'type': 'Property', 'value': {'@type': 'DateTime', '@value': '2025-05-27T17:32:30+00:00'}, 'observedAt': '2025-05-27T17:32:30.000Z'}, 'sessionStatus': {'type': 'Property', 'value': 'ended'}, 'sessionType': {'type': 'Property', 'value': 'AC-Level2'}, 'userId': {'type': 'Property', 'value': '8E47015B'}}, {'@context': 'https://raw.githubusercontent.com/chzh63315/DigiEV/1fd2fb3374578aea96ef41b5a49fc03f144f7afd/contexts/datamodels.context-ngsi.jsonld', 'id': 'urn:ngsi-ld:ChargingSession:session-487807670', 'type': 'ChargingSession', 'authenticationId': {'type': 'Property', 'value': '8E47015B'}, 'authenticationMethod': {'type': 'Property', 'value': 'RFID'}, 'dateCreated': {'type': 'Property', 'value': {'@type': 'DateTime', '@value': '2025-05-26T22:46:45+00:00'}}, 'energyConsumed': {'type': 'Property', 'value': 12.133, 'units': {'type': 'Property', 'value': 'kWh'}, 'observedAt': '2025-05-27T10:18:14.000Z'}, 'lastUpdated': {'type': 'Property', 'value': {'@type': 'DateTime', '@value': '2025-06-30T12:19:40.820438Z'}}, 'refChargingPoint': {'type': 'Relationship', 'object': 'urn:ngsi-ld:ChargingPoint:ParisSaclay30-1-P-01'}, 'sessionDuration': {'type': 'Property', 'value': 691.483333, 'units': {'type': 'Property', 'value': 'MIN'}, 'observedAt': '2025-05-27T10:18:14.000Z'}, 'sessionEndTime': {'type': 'Property', 'value': {'@type': 'DateTime', '@value': '2025-05-27T10:18:14+00:00'}, 'observedAt': '2025-05-27T10:18:14.000Z'}, 'sessionId': {'type': 'Property', 'value': '487807670'}, 'sessionStartTime': {'type': 'Property', 'value': {'@type': 'DateTime', '@value': '2025-05-26T22:46:45+00:00'}, 'observedAt': '2025-05-26T22:46:45.000Z'}, 'sessionStatus': {'type': 'Property', 'value': 'ended'}, 'sessionType': {'type': 'Property', 'value': 'AC-Level2'}, 'userId': {'type': 'Property', 'value': '8E47015B'}}, {'@context': 'https://raw.githubusercontent.com/chzh63315/DigiEV/1fd2fb3374578aea96ef41b5a49fc03f144f7afd/contexts/datamodels.context-ngsi.jsonld', 'id': 'urn:ngsi-ld:ChargingSession:session-528124502', 'type': 'ChargingSession', 'authenticationId': {'type': 'Property', 'value': '8E47015B'}, 'authenticationMethod': {'type': 'Property', 'value': 'RFID'}, 'dateCreated': {'type': 'Property', 'value': {'@type': 'DateTime', '@value': '2025-05-26T16:51:07+00:00'}}, 'energyConsumed': {'type': 'Property', 'value': 18.08, 'units': {'type': 'Property', 'value': 'kWh'}, 'observedAt': '2025-05-26T19:05:56.000Z'}, 'lastUpdated': {'type': 'Property', 'value': {'@type': 'DateTime', '@value': '2025-06-30T12:19:40.822965Z'}}, 'refChargingPoint': {'type': 'Relationship', 'object': 'urn:ngsi-ld:ChargingPoint:ParisSaclay30-1-P-01'}, 'sessionDuration': {'type': 'Property', 'value': 134.816667, 'units': {'type': 'Property', 'value': 'MIN'}, 'observedAt': '2025-05-26T19:05:56.000Z'}, 'sessionEndTime': {'type': 'Property', 'value': {'@type': 'DateTime', '@value': '2025-05-26T19:05:56+00:00'}, 'observedAt': '2025-05-26T19:05:56.000Z'}, 'sessionId': {'type': 'Property', 'value': '528124502'}, 'sessionStartTime': {'type': 'Property', 'value': {'@type': 'DateTime', '@value': '2025-05-26T16:51:07+00:00'}, 'observedAt': '2025-05-26T16:51:07.000Z'}, 'sessionStatus': {'type': 'Property', 'value': 'ended'}, 'sessionType': {'type': 'Property', 'value': 'AC-Level2'}, 'userId': {'type': 'Property', 'value': '8E47015B'}}, {'@context': 'https://raw.githubusercontent.com/chzh63315/DigiEV/1fd2fb3374578aea96ef41b5a49fc03f144f7afd/contexts/datamodels.context-ngsi.jsonld', 'id': 'urn:ngsi-ld:ChargingSession:session-840223019', 'type': 'ChargingSession', 'authenticationId': {'type': 'Property', 'value': '8E47015B'}, 'authenticationMethod': {'type': 'Property', 'value': 'RFID'}, 'dateCreated': {'type': 'Property', 'value': {'@type': 'DateTime', '@value': '2025-05-22T14:17:33+00:00'}}, 'energyConsumed': {'type': 'Property', 'value': 13.041, 'units': {'type': 'Property', 'value': 'kWh'}, 'observedAt': '2025-05-23T20:52:16.000Z'}, 'lastUpdated': {'type': 'Property', 'value': {'@type': 'DateTime', '@value': '2025-06-30T12:19:40.826296Z'}}, 'refChargingPoint': {'type': 'Relationship', 'object': 'urn:ngsi-ld:ChargingPoint:ParisSaclay30-1-P-01'}, 'sessionDuration': {'type': 'Property', 'value': 1834.716667, 'units': {'type': 'Property', 'value': 'MIN'}, 'observedAt': '2025-05-23T20:52:16.000Z'}, 'sessionEndTime': {'type': 'Property', 'value': {'@type': 'DateTime', '@value': '2025-05-23T20:52:16+00:00'}, 'observedAt': '2025-05-23T20:52:16.000Z'}, 'sessionId': {'type': 'Property', 'value': '840223019'}, 'sessionStartTime': {'type': 'Property', 'value': {'@type': 'DateTime', '@value': '2025-05-22T14:17:33+00:00'}, 'observedAt': '2025-05-22T14:17:33.000Z'}, 'sessionStatus': {'type': 'Property', 'value': 'ended'}, 'sessionType': {'type': 'Property', 'value': 'AC-Level2'}, 'userId': {'type': 'Property', 'value': '8E47015B'}}, {'@context': 'https://raw.githubusercontent.com/chzh63315/DigiEV/1fd2fb3374578aea96ef41b5a49fc03f144f7afd/contexts/datamodels.context-ngsi.jsonld', 'id': 'urn:ngsi-ld:ChargingSession:session-5101423', 'type': 'ChargingSession', 'authenticationId': {'type': 'Property', 'value': '8E47015B'}, 'authenticationMethod': {'type': 'Property', 'value': 'RFID'}, 'dateCreated': {'type': 'Property', 'value': {'@type': 'DateTime', '@value': '2025-04-27T14:54:17+00:00'}}, 'energyConsumed': {'type': 'Property', 'value': 8.108, 'units': {'type': 'Property', 'value': 'kWh'}, 'observedAt': '2025-05-01T07:08:24.000Z'}, 'lastUpdated': {'type': 'Property', 'value': {'@type': 'DateTime', '@value': '2025-06-30T12:19:40.830790Z'}}, 'refChargingPoint': {'type': 'Relationship', 'object': 'urn:ngsi-ld:ChargingPoint:ParisSaclay30-1-P-01'}, 'sessionDuration': {'type': 'Property', 'value': 5294.116667, 'units': {'type': 'Property', 'value': 'MIN'}, 'observedAt': '2025-05-01T07:08:24.000Z'}, 'sessionEndTime': {'type': 'Property', 'value': {'@type': 'DateTime', '@value': '2025-05-01T07:08:24+00:00'}, 'observedAt': '2025-05-01T07:08:24.000Z'}, 'sessionId': {'type': 'Property', 'value': '5101423'}, 'sessionStartTime': {'type': 'Property', 'value': {'@type': 'DateTime', '@value': '2025-04-27T14:54:17+00:00'}, 'observedAt': '2025-04-27T14:54:17.000Z'}, 'sessionStatus': {'type': 'Property', 'value': 'ended'}, 'sessionType': {'type': 'Property', 'value': 'AC-Level2'}, 'userId': {'type': 'Property', 'value': '8E47015B'}}, {'@context': 'https://raw.githubusercontent.com/chzh63315/DigiEV/1fd2fb3374578aea96ef41b5a49fc03f144f7afd/contexts/datamodels.context-ngsi.jsonld', 'id': 'urn:ngsi-ld:ChargingSession:session-751802629', 'type': 'ChargingSession', 'authenticationId': {'type': 'Property', 'value': '1'}, 'authenticationMethod': {'type': 'Property', 'value': 'RFID'}, 'dateCreated': {'type': 'Property', 'value': {'@type': 'DateTime', '@value': '2025-04-25T14:22:34+00:00'}}, 'energyConsumed': {'type': 'Property', 'value': 18.459, 'units': {'type': 'Property', 'value': 'kWh'}, 'observedAt': '2025-04-27T08:16:42.000Z'}, 'lastUpdated': {'type': 'Property', 'value': {'@type': 'DateTime', '@value': '2025-06-30T12:19:40.834028Z'}}, 'refChargingPoint': {'type': 'Relationship', 'object': 'urn:ngsi-ld:ChargingPoint:ParisSaclay30-1-P-01'}, 'sessionDuration': {'type': 'Property', 'value': 2514.133333, 'units': {'type': 'Property', 'value': 'MIN'}, 'observedAt': '2025-04-27T08:16:42.000Z'}, 'sessionEndTime': {'type': 'Property', 'value': {'@type': 'DateTime', '@value': '2025-04-27T08:16:42+00:00'}, 'observedAt': '2025-04-27T08:16:42.000Z'}, 'sessionId': {'type': 'Property', 'value': '751802629'}, 'sessionStartTime': {'type': 'Property', 'value': {'@type': 'DateTime', '@value': '2025-04-25T14:22:34+00:00'}, 'observedAt': '2025-04-25T14:22:34.000Z'}, 'sessionStatus': {'type': 'Property', 'value': 'ended'}, 'sessionType': {'type': 'Property', 'value': 'AC-Level2'}, 'userId': {'type': 'Property', 'value': 'RemoteApp'}}, {'@context': 'https://raw.githubusercontent.com/chzh63315/DigiEV/1fd2fb3374578aea96ef41b5a49fc03f144f7afd/contexts/datamodels.context-ngsi.jsonld', 'id': 'urn:ngsi-ld:ChargingSession:session-401415615', 'type': 'ChargingSession', 'authenticationId': {'type': 'Property', 'value': '8E47015B'}, 'authenticationMethod': {'type': 'Property', 'value': 'RFID'}, 'dateCreated': {'type': 'Property', 'value': {'@type': 'DateTime', '@value': '2025-04-23T17:47:37+00:00'}}, 'energyConsumed': {'type': 'Property', 'value': 15.218, 'units': {'type': 'Property', 'value': 'kWh'}, 'observedAt': '2025-04-23T18:57:36.000Z'}, 'lastUpdated': {'type': 'Property', 'value': {'@type': 'DateTime', '@value': '2025-06-30T12:19:40.837144Z'}}, 'refChargingPoint': {'type': 'Relationship', 'object': 'urn:ngsi-ld:ChargingPoint:ParisSaclay30-1-P-01'}, 'sessionDuration': {'type': 'Property', 'value': 69.983333, 'units': {'type': 'Property', 'value': 'MIN'}, 'observedAt': '2025-04-23T18:57:36.000Z'}, 'sessionEndTime': {'type': 'Property', 'value': {'@type': 'DateTime', '@value': '2025-04-23T18:57:36+00:00'}, 'observedAt': '2025-04-23T18:57:36.000Z'}, 'sessionId': {'type': 'Property', 'value': '401415615'}, 'sessionStartTime': {'type': 'Property', 'value': {'@type': 'DateTime', '@value': '2025-04-23T17:47:37+00:00'}, 'observedAt': '2025-04-23T17:47:37.000Z'}, 'sessionStatus': {'type': 'Property', 'value': 'ended'}, 'sessionType': {'type': 'Property', 'value': 'AC-Level2'}, 'userId': {'type': 'Property', 'value': '8E47015B'}}, {'@context': 'https://raw.githubusercontent.com/chzh63315/DigiEV/1fd2fb3374578aea96ef41b5a49fc03f144f7afd/contexts/datamodels.context-ngsi.jsonld', 'id': 'urn:ngsi-ld:ChargingSession:session-466157556', 'type': 'ChargingSession', 'authenticationId': {'type': 'Property', 'value': '8E47015B'}, 'authenticationMethod': {'type': 'Property', 'value': 'RFID'}, 'dateCreated': {'type': 'Property', 'value': {'@type': 'DateTime', '@value': '2025-04-17T16:55:15+00:00'}}, 'energyConsumed': {'type': 'Property', 'value': 14.528, 'units': {'type': 'Property', 'value': 'kWh'}, 'observedAt': '2025-04-18T08:10:04.000Z'}, 'lastUpdated': {'type': 'Property', 'value': {'@type': 'DateTime', '@value': '2025-06-30T12:19:40.839250Z'}}, 'refChargingPoint': {'type': 'Relationship', 'object': 'urn:ngsi-ld:ChargingPoint:ParisSaclay30-1-P-01'}, 'sessionDuration': {'type': 'Property', 'value': 914.816667, 'units': {'type': 'Property', 'value': 'MIN'}, 'observedAt': '2025-04-18T08:10:04.000Z'}, 'sessionEndTime': {'type': 'Property', 'value': {'@type': 'DateTime', '@value': '2025-04-18T08:10:04+00:00'}, 'observedAt': '2025-04-18T08:10:04.000Z'}, 'sessionId': {'type': 'Property', 'value': '466157556'}, 'sessionStartTime': {'type': 'Property', 'value': {'@type': 'DateTime', '@value': '2025-04-17T16:55:15+00:00'}, 'observedAt': '2025-04-17T16:55:15.000Z'}, 'sessionStatus': {'type': 'Property', 'value': 'ended'}, 'sessionType': {'type': 'Property', 'value': 'AC-Level2'}, 'userId': {'type': 'Property', 'value': '8E47015B'}}, {'@context': 'https://raw.githubusercontent.com/chzh63315/DigiEV/1fd2fb3374578aea96ef41b5a49fc03f144f7afd/contexts/datamodels.context-ngsi.jsonld', 'id': 'urn:ngsi-ld:ChargingSession:session-709813933', 'type': 'ChargingSession', 'authenticationId': {'type': 'Property', 'value': '1'}, 'authenticationMethod': {'type': 'Property', 'value': 'RFID'}, 'dateCreated': {'type': 'Property', 'value': {'@type': 'DateTime', '@value': '2025-04-14T15:50:27+00:00'}}, 'energyConsumed': {'type': 'Property', 'value': 18.816, 'units': {'type': 'Property', 'value': 'kWh'}, 'observedAt': '2025-04-14T17:25:59.000Z'}, 'lastUpdated': {'type': 'Property', 'value': {'@type': 'DateTime', '@value': '2025-06-30T12:19:40.841082Z'}}, 'refChargingPoint': {'type': 'Relationship', 'object': 'urn:ngsi-ld:ChargingPoint:ParisSaclay30-1-P-01'}, 'sessionDuration': {'type': 'Property', 'value': 95.533333, 'units': {'type': 'Property', 'value': 'MIN'}, 'observedAt': '2025-04-14T17:25:59.000Z'}, 'sessionEndTime': {'type': 'Property', 'value': {'@type': 'DateTime', '@value': '2025-04-14T17:25:59+00:00'}, 'observedAt': '2025-04-14T17:25:59.000Z'}, 'sessionId': {'type': 'Property', 'value': '709813933'}, 'sessionStartTime': {'type': 'Property', 'value': {'@type': 'DateTime', '@value': '2025-04-14T15:50:27+00:00'}, 'observedAt': '2025-04-14T15:50:27.000Z'}, 'sessionStatus': {'type': 'Property', 'value': 'ended'}, 'sessionType': {'type': 'Property', 'value': 'AC-Level2'}, 'userId': {'type': 'Property', 'value': 'RemoteApp'}}, {'@context': 'https://raw.githubusercontent.com/chzh63315/DigiEV/1fd2fb3374578aea96ef41b5a49fc03f144f7afd/contexts/datamodels.context-ngsi.jsonld', 'id': 'urn:ngsi-ld:ChargingSession:session-786529422', 'type': 'ChargingSession', 'authenticationId': {'type': 'Property', 'value': '8E47015B'}, 'authenticationMethod': {'type': 'Property', 'value': 'RFID'}, 'dateCreated': {'type': 'Property', 'value': {'@type': 'DateTime', '@value': '2025-04-11T11:17:05+00:00'}}, 'energyConsumed': {'type': 'Property', 'value': 2.39, 'units': {'type': 'Property', 'value': 'kWh'}, 'observedAt': '2025-04-11T13:11:10.000Z'}, 'lastUpdated': {'type': 'Property', 'value': {'@type': 'DateTime', '@value': '2025-06-30T12:19:40.843069Z'}}, 'refChargingPoint': {'type': 'Relationship', 'object': 'urn:ngsi-ld:ChargingPoint:ParisSaclay30-1-P-01'}, 'sessionDuration': {'type': 'Property', 'value': 114.083333, 'units': {'type': 'Property', 'value': 'MIN'}, 'observedAt': '2025-04-11T13:11:10.000Z'}, 'sessionEndTime': {'type': 'Property', 'value': {'@type': 'DateTime', '@value': '2025-04-11T13:11:10+00:00'}, 'observedAt': '2025-04-11T13:11:10.000Z'}, 'sessionId': {'type': 'Property', 'value': '786529422'}, 'sessionStartTime': {'type': 'Property', 'value': {'@type': 'DateTime', '@value': '2025-04-11T11:17:05+00:00'}, 'observedAt': '2025-04-11T11:17:05.000Z'}, 'sessionStatus': {'type': 'Property', 'value': 'ended'}, 'sessionType': {'type': 'Property', 'value': 'AC-Level2'}, 'userId': {'type': 'Property', 'value': '8E47015B'}}, {'@context': 'https://raw.githubusercontent.com/chzh63315/DigiEV/1fd2fb3374578aea96ef41b5a49fc03f144f7afd/contexts/datamodels.context-ngsi.jsonld', 'id': 'urn:ngsi-ld:ChargingSession:session-588947121', 'type': 'ChargingSession', 'authenticationId': {'type': 'Property', 'value': '8E47015B'}, 'authenticationMethod': {'type': 'Property', 'value': 'RFID'}, 'dateCreated': {'type': 'Property', 'value': {'@type': 'DateTime', '@value': '2025-04-10T09:09:10+00:00'}}, 'energyConsumed': {'type': 'Property', 'value': 1.955, 'units': {'type': 'Property', 'value': 'kWh'}, 'observedAt': '2025-04-10T13:37:36.000Z'}, 'lastUpdated': {'type': 'Property', 'value': {'@type': 'DateTime', '@value': '2025-06-30T12:19:40.848023Z'}}, 'refChargingPoint': {'type': 'Relationship', 'object': 'urn:ngsi-ld:ChargingPoint:ParisSaclay30-1-P-01'}, 'sessionDuration': {'type': 'Property', 'value': 268.433333, 'units': {'type': 'Property', 'value': 'MIN'}, 'observedAt': '2025-04-10T13:37:36.000Z'}, 'sessionEndTime': {'type': 'Property', 'value': {'@type': 'DateTime', '@value': '2025-04-10T13:37:36+00:00'}, 'observedAt': '2025-04-10T13:37:36.000Z'}, 'sessionId': {'type': 'Property', 'value': '588947121'}, 'sessionStartTime': {'type': 'Property', 'value': {'@type': 'DateTime', '@value': '2025-04-10T09:09:10+00:00'}, 'observedAt': '2025-04-10T09:09:10.000Z'}, 'sessionStatus': {'type': 'Property', 'value': 'ended'}, 'sessionType': {'type': 'Property', 'value': 'AC-Level2'}, 'userId': {'type': 'Property', 'value': '8E47015B'}}, {'@context': 'https://raw.githubusercontent.com/chzh63315/DigiEV/1fd2fb3374578aea96ef41b5a49fc03f144f7afd/contexts/datamodels.context-ngsi.jsonld', 'id': 'urn:ngsi-ld:ChargingSession:session-1786598', 'type': 'ChargingSession', 'authenticationId': {'type': 'Property', 'value': '8E47015B'}, 'authenticationMethod': {'type': 'Property', 'value': 'RFID'}, 'dateCreated': {'type': 'Property', 'value': {'@type': 'DateTime', '@value': '2025-04-09T10:21:03+00:00'}}, 'energyConsumed': {'type': 'Property', 'value': 8.034, 'units': {'type': 'Property', 'value': 'kWh'}, 'observedAt': '2025-04-09T11:16:09.000Z'}, 'lastUpdated': {'type': 'Property', 'value': {'@type': 'DateTime', '@value': '2025-06-30T12:19:40.850110Z'}}, 'refChargingPoint': {'type': 'Relationship', 'object': 'urn:ngsi-ld:ChargingPoint:ParisSaclay30-1-P-01'}, 'sessionDuration': {'type': 'Property', 'value': 55.1, 'units': {'type': 'Property', 'value': 'MIN'}, 'observedAt': '2025-04-09T11:16:09.000Z'}, 'sessionEndTime': {'type': 'Property', 'value': {'@type': 'DateTime', '@value': '2025-04-09T11:16:09+00:00'}, 'observedAt': '2025-04-09T11:16:09.000Z'}, 'sessionId': {'type': 'Property', 'value': '1786598'}, 'sessionStartTime': {'type': 'Property', 'value': {'@type': 'DateTime', '@value': '2025-04-09T10:21:03+00:00'}, 'observedAt': '2025-04-09T10:21:03.000Z'}, 'sessionStatus': {'type': 'Property', 'value': 'ended'}, 'sessionType': {'type': 'Property', 'value': 'AC-Level2'}, 'userId': {'type': 'Property', 'value': '8E47015B'}}, {'@context': 'https://raw.githubusercontent.com/chzh63315/DigiEV/1fd2fb3374578aea96ef41b5a49fc03f144f7afd/contexts/datamodels.context-ngsi.jsonld', 'id': 'urn:ngsi-ld:ChargingSession:session-178095963', 'type': 'ChargingSession', 'authenticationId': {'type': 'Property', 'value': '8E47015B'}, 'authenticationMethod': {'type': 'Property', 'value': 'RFID'}, 'dateCreated': {'type': 'Property', 'value': {'@type': 'DateTime', '@value': '2025-04-08T07:53:29+00:00'}}, 'energyConsumed': {'type': 'Property', 'value': 17.712, 'units': {'type': 'Property', 'value': 'kWh'}, 'observedAt': '2025-04-08T11:48:09.000Z'}, 'lastUpdated': {'type': 'Property', 'value': {'@type': 'DateTime', '@value': '2025-06-30T12:19:40.851789Z'}}, 'refChargingPoint': {'type': 'Relationship', 'object': 'urn:ngsi-ld:ChargingPoint:ParisSaclay30-1-P-01'}, 'sessionDuration': {'type': 'Property', 'value': 234.666667, 'units': {'type': 'Property', 'value': 'MIN'}, 'observedAt': '2025-04-08T11:48:09.000Z'}, 'sessionEndTime': {'type': 'Property', 'value': {'@type': 'DateTime', '@value': '2025-04-08T11:48:09+00:00'}, 'observedAt': '2025-04-08T11:48:09.000Z'}, 'sessionId': {'type': 'Property', 'value': '178095963'}, 'sessionStartTime': {'type': 'Property', 'value': {'@type': 'DateTime', '@value': '2025-04-08T07:53:29+00:00'}, 'observedAt': '2025-04-08T07:53:29.000Z'}, 'sessionStatus': {'type': 'Property', 'value': 'ended'}, 'sessionType': {'type': 'Property', 'value': 'AC-Level2'}, 'userId': {'type': 'Property', 'value': '8E47015B'}}, {'@context': 'https://raw.githubusercontent.com/chzh63315/DigiEV/1fd2fb3374578aea96ef41b5a49fc03f144f7afd/contexts/datamodels.context-ngsi.jsonld', 'id': 'urn:ngsi-ld:ChargingSession:session-708513173', 'type': 'ChargingSession', 'authenticationId': {'type': 'Property', 'value': '1'}, 'authenticationMethod': {'type': 'Property', 'value': 'RFID'}, 'dateCreated': {'type': 'Property', 'value': {'@type': 'DateTime', '@value': '2025-04-05T20:03:23+00:00'}}, 'energyConsumed': {'type': 'Property', 'value': 1.835, 'units': {'type': 'Property', 'value': 'kWh'}, 'observedAt': '2025-04-05T20:11:27.000Z'}, 'lastUpdated': {'type': 'Property', 'value': {'@type': 'DateTime', '@value': '2025-06-30T12:19:40.853361Z'}}, 'refChargingPoint': {'type': 'Relationship', 'object': 'urn:ngsi-ld:ChargingPoint:ParisSaclay30-1-P-01'}, 'sessionDuration': {'type': 'Property', 'value': 8.066667, 'units': {'type': 'Property', 'value': 'MIN'}, 'observedAt': '2025-04-05T20:11:27.000Z'}, 'sessionEndTime': {'type': 'Property', 'value': {'@type': 'DateTime', '@value': '2025-04-05T20:11:27+00:00'}, 'observedAt': '2025-04-05T20:11:27.000Z'}, 'sessionId': {'type': 'Property', 'value': '708513173'}, 'sessionStartTime': {'type': 'Property', 'value': {'@type': 'DateTime', '@value': '2025-04-05T20:03:23+00:00'}, 'observedAt': '2025-04-05T20:03:23.000Z'}, 'sessionStatus': {'type': 'Property', 'value': 'ended'}, 'sessionType': {'type': 'Property', 'value': 'AC-Level2'}, 'userId': {'type': 'Property', 'value': 'RemoteApp'}}, {'@context': 'https://raw.githubusercontent.com/chzh63315/DigiEV/1fd2fb3374578aea96ef41b5a49fc03f144f7afd/contexts/datamodels.context-ngsi.jsonld', 'id': 'urn:ngsi-ld:ChargingSession:session-355075576', 'type': 'ChargingSession', 'authenticationId': {'type': 'Property', 'value': '1'}, 'authenticationMethod': {'type': 'Property', 'value': 'RFID'}, 'dateCreated': {'type': 'Property', 'value': {'@type': 'DateTime', '@value': '2025-04-05T06:29:01+00:00'}}, 'energyConsumed': {'type': 'Property', 'value': 4.815, 'units': {'type': 'Property', 'value': 'kWh'}, 'observedAt': '2025-04-05T06:50:10.000Z'}, 'lastUpdated': {'type': 'Property', 'value': {'@type': 'DateTime', '@value': '2025-06-30T12:19:40.854922Z'}}, 'refChargingPoint': {'type': 'Relationship', 'object': 'urn:ngsi-ld:ChargingPoint:ParisSaclay30-1-P-01'}, 'sessionDuration': {'type': 'Property', 'value': 21.15, 'units': {'type': 'Property', 'value': 'MIN'}, 'observedAt': '2025-04-05T06:50:10.000Z'}, 'sessionEndTime': {'type': 'Property', 'value': {'@type': 'DateTime', '@value': '2025-04-05T06:50:10+00:00'}, 'observedAt': '2025-04-05T06:50:10.000Z'}, 'sessionId': {'type': 'Property', 'value': '355075576'}, 'sessionStartTime': {'type': 'Property', 'value': {'@type': 'DateTime', '@value': '2025-04-05T06:29:01+00:00'}, 'observedAt': '2025-04-05T06:29:01.000Z'}, 'sessionStatus': {'type': 'Property', 'value': 'ended'}, 'sessionType': {'type': 'Property', 'value': 'AC-Level2'}, 'userId': {'type': 'Property', 'value': 'RemoteApp'}}]\n"
     ]
    }
   ],
   "source": [
    "query_url = f\"{NGSI_LD_ENDPOINT}?type=ChargingSession\"\n",
    "\n",
    "response = requests.get(query_url, headers=headers)\n",
    "print(f\"HTTP status: {response.status_code}\")\n",
    "print(f\"info: {response.json()}\")"
   ]
  },
  {
   "cell_type": "code",
   "execution_count": 32,
   "id": "3f84f40b",
   "metadata": {},
   "outputs": [
    {
     "name": "stdout",
     "output_type": "stream",
     "text": [
      "HTTP status: 200\n",
      "info: [{'@context': 'https://raw.githubusercontent.com/chzh63315/DigiEV/1fd2fb3374578aea96ef41b5a49fc03f144f7afd/contexts/datamodels.context-ngsi.jsonld', 'id': 'urn:ngsi-ld:ChargingSession:session-512840826', 'type': 'ChargingSession', 'authenticationId': {'type': 'Property', 'value': '1'}, 'authenticationMethod': {'type': 'Property', 'value': 'RFID'}, 'chargingDuration': {'type': 'Property', 'value': 25, 'units': {'type': 'Property', 'value': 'MIN'}}, 'chargingStartTime': {'type': 'Property', 'value': {'@type': 'DateTime', '@value': '2025-06-30T11:21:34.759457Z'}}, 'dateCreated': {'type': 'Property', 'value': {'@type': 'DateTime', '@value': '2025-06-30T11:21:04.759457Z'}}, 'lastUpdated': {'type': 'Property', 'value': {'@type': 'DateTime', '@value': '2025-06-30T11:21:04.759779Z'}}, 'refChargingPoint': {'type': 'Relationship', 'object': 'urn:ngsi-ld:ChargingPoint:E4C-001-CP-001'}, 'refVehicleStatus': {'type': 'Relationship', 'object': 'urn:ngsi-ld:E-VehicleStatus:vehicle-001-status'}, 'sessionDuration': {'type': 'Property', 'value': 25.5, 'units': {'type': 'Property', 'value': 'MIN'}}, 'sessionId': {'type': 'Property', 'value': '512840826'}, 'sessionStartTime': {'type': 'Property', 'value': {'@type': 'DateTime', '@value': '2025-06-30T11:21:04.759457Z'}}, 'sessionStatus': {'type': 'Property', 'value': 'charging'}, 'sessionType': {'type': 'Property', 'value': 'AC-Level2'}, 'userId': {'type': 'Property', 'value': 'RemoteApp'}}]\n"
     ]
    }
   ],
   "source": [
    "query_url = f\"{NGSI_LD_ENDPOINT}?type=ChargingSession&q=refChargingPoint==\\\"urn:ngsi-ld:ChargingPoint:E4C-001-CP-001\\\"\"\n",
    "\n",
    "response = requests.get(query_url, headers=headers)\n",
    "\n",
    "print(f\"HTTP status: {response.status_code}\")\n",
    "print(f\"info: {response.json()}\")"
   ]
  },
  {
   "cell_type": "markdown",
   "id": "30cb72b0",
   "metadata": {},
   "source": []
  }
 ],
 "metadata": {
  "kernelspec": {
   "display_name": "base",
   "language": "python",
   "name": "python3"
  },
  "language_info": {
   "codemirror_mode": {
    "name": "ipython",
    "version": 3
   },
   "file_extension": ".py",
   "mimetype": "text/x-python",
   "name": "python",
   "nbconvert_exporter": "python",
   "pygments_lexer": "ipython3",
   "version": "3.11.5"
  }
 },
 "nbformat": 4,
 "nbformat_minor": 5
}
