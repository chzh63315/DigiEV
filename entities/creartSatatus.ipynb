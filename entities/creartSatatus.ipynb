{
 "cells": [
  {
   "cell_type": "code",
   "execution_count": 64,
   "id": "1c549f51",
   "metadata": {},
   "outputs": [],
   "source": [
    "import requests\n",
    "from datetime import datetime, timedelta,timezone\n",
    "\n",
    "ORION_URL = \"http://localhost:1026\"\n",
    "NGSI_LD_ENDPOINT = f\"{ORION_URL}/ngsi-ld/v1/entities\"\n",
    "MINTAKA_URL = \"http://localhost:8080\""
   ]
  },
  {
   "cell_type": "code",
   "execution_count": 65,
   "id": "7f493208",
   "metadata": {},
   "outputs": [
    {
     "name": "stdout",
     "output_type": "stream",
     "text": [
      "{'orionld version': '1.4.0', 'orion version': '1.15.0-next', 'uptime': '0 d, 0 h, 4 m, 9 s', 'git_hash': 'nogitversion', 'compile_time': 'Sat Aug 26 06:19:09 UTC 2023', 'compiled_by': 'root', 'compiled_in': '', 'release_date': 'Sat Aug 26 06:19:09 UTC 2023', 'doc': 'https://fiware-orion.readthedocs.org/en/master/'}\n"
     ]
    }
   ],
   "source": [
    "response = requests.get(f\"{ORION_URL}/version\")\n",
    "print(response.json())"
   ]
  },
  {
   "cell_type": "code",
   "execution_count": 66,
   "id": "88bcc34d",
   "metadata": {},
   "outputs": [
    {
     "name": "stdout",
     "output_type": "stream",
     "text": [
      "{'git': {'revision': '9888046fb2bc31d573720cd81f868e6c95866fe7'}, 'build': {'time': '23 February 2022, 07:24:12 +0000'}, 'project': {'artifact-id': 'mintaka', 'group-id': 'org.fiware', 'version': '0.4.3'}}\n"
     ]
    }
   ],
   "source": [
    "response = requests.get(f\"{MINTAKA_URL}/info\")\n",
    "print(response.json())"
   ]
  },
  {
   "cell_type": "code",
   "execution_count": 67,
   "id": "1cb9d16f",
   "metadata": {},
   "outputs": [],
   "source": [
    "headers = {\n",
    "    'Content-Type': 'application/json',\n",
    "    'Accept': 'application/ld+json',\n",
    "    'Link': '<https://raw.githubusercontent.com/chzh63315/DigiEV/1fd2fb3374578aea96ef41b5a49fc03f144f7afd/contexts/datamodels.context-ngsi.jsonld>; rel=\"http://www.w3.org/ns/json-ld#context\"; type=\"application/ld+json\"'\n",
    "}"
   ]
  },
  {
   "cell_type": "code",
   "execution_count": 68,
   "id": "0c2bce01",
   "metadata": {},
   "outputs": [],
   "source": [
    "CP_001_S_001 = {\n",
    "    \"id\": \"urn:ngsi-ld:ChargingPointStatus:CP_001_S_001\",\n",
    "    \"type\": \"ChargingPointStatus\",\n",
    "    \"dateCreated\": {\n",
    "        \"type\": \"Property\",\n",
    "        \"value\": {\n",
    "            \"@type\": \"DateTime\",\n",
    "            \"@value\": datetime.now(timezone.utc).isoformat()\n",
    "        }\n",
    "    },\n",
    "    \"refChargingPoint\": {\n",
    "        \"type\": \"Relationship\",\n",
    "        \"object\": \"urn:ngsi-ld:ChargingPoint:E4C-001-CP-001\"\n",
    "    },\n",
    "    \"unitStatus\": {\n",
    "        \"type\": \"Property\",\n",
    "        \"value\": \"available\"\n",
    "    },\n",
    "    \"operatingData\": {\n",
    "        \"type\": \"Property\",\n",
    "        \"value\": {\n",
    "            \"currentPowerOutput\": 0.0,\n",
    "            \"currentVoltage\": 230.0,\n",
    "            \"currentCurrent\": 0.0,\n",
    "            \"powerFactor\": 0.95,\n",
    "            \"efficiency\": 92.5\n",
    "        }\n",
    "    }\n",
    "}"
   ]
  },
  {
   "cell_type": "code",
   "execution_count": 69,
   "id": "5c235d7e",
   "metadata": {},
   "outputs": [],
   "source": [
    "CP_001_S_002 = {\n",
    "    \"id\": \"urn:ngsi-ld:ChargingPointStatus:CP_001_S_002\",\n",
    "    \"type\": \"ChargingPointStatus\",\n",
    "    \"dateCreated\": {\n",
    "        \"type\": \"Property\",\n",
    "        \"value\": {\n",
    "            \"@type\": \"DateTime\",\n",
    "            \"@value\": datetime.now(timezone.utc).isoformat()\n",
    "        }\n",
    "    },\n",
    "    \"refChargingPoint\": {\n",
    "        \"type\": \"Relationship\",\n",
    "        \"object\": \"urn:ngsi-ld:ChargingPoint:E4C-001-CP-001\"\n",
    "    },\n",
    "    \"unitStatus\": {\n",
    "        \"type\": \"Property\",\n",
    "        \"value\": \"available\"\n",
    "    },\n",
    "    \"operatingData\": {\n",
    "        \"type\": \"Property\",\n",
    "        \"value\": {\n",
    "            \"currentPowerOutput\": 0.0,\n",
    "            \"currentVoltage\": 230.0,\n",
    "            \"currentCurrent\": 0.0,\n",
    "            \"powerFactor\": 0.95,\n",
    "            \"efficiency\": 92.5\n",
    "        }\n",
    "    }\n",
    "}"
   ]
  },
  {
   "cell_type": "code",
   "execution_count": 70,
   "id": "b658a134",
   "metadata": {},
   "outputs": [
    {
     "name": "stdout",
     "output_type": "stream",
     "text": [
      "HTTP statu: 201\n",
      "info: \n"
     ]
    }
   ],
   "source": [
    "response = requests.post(\n",
    "    NGSI_LD_ENDPOINT,\n",
    "    json=CP_001_S_002,\n",
    "    headers=headers\n",
    ")\n",
    "\n",
    "print(f\"HTTP statu: {response.status_code}\")\n",
    "print(f\"info: {response.text}\")"
   ]
  },
  {
   "cell_type": "code",
   "execution_count": 71,
   "id": "18c4165f",
   "metadata": {},
   "outputs": [
    {
     "name": "stdout",
     "output_type": "stream",
     "text": [
      "HTTP status: 200\n",
      "info: {'@context': 'https://raw.githubusercontent.com/chzh63315/DigiEV/1fd2fb3374578aea96ef41b5a49fc03f144f7afd/contexts/datamodels.context-ngsi.jsonld', 'id': 'urn:ngsi-ld:ChargingPointStatus:CP_001_S_002', 'type': 'ChargingPointStatus', 'dateCreated': {'type': 'Property', 'value': {'@type': 'DateTime', '@value': '2025-06-23T14:42:51.608361+00:00'}}, 'refChargingPoint': {'type': 'Relationship', 'object': 'urn:ngsi-ld:ChargingPoint:E4C-001-CP-001'}, 'unitStatus': {'type': 'Property', 'value': 'available'}, 'operatingData': {'type': 'Property', 'value': {'currentPowerOutput': 0, 'currentVoltage': 230, 'currentCurrent': 0, 'powerFactor': 0.95, 'efficiency': 92.5}}}\n"
     ]
    }
   ],
   "source": [
    "entity_id = \"urn:ngsi-ld:ChargingPointStatus:CP_001_S_002\"\n",
    "query_url = f\"{NGSI_LD_ENDPOINT}/{entity_id}\"\n",
    "\n",
    "response = requests.get(query_url, headers=headers)\n",
    "\n",
    "print(f\"HTTP status: {response.status_code}\")\n",
    "print(f\"info: {response.json()}\")"
   ]
  },
  {
   "cell_type": "code",
   "execution_count": 72,
   "id": "d5f468a7",
   "metadata": {},
   "outputs": [],
   "source": [
    "update_CP_001_S_002 = {\n",
    "    \"unitStatus\": {\n",
    "        \"type\": \"Property\",\n",
    "        \"value\": \"charging\"\n",
    "    },\n",
    "    \"operatingData\": {\n",
    "        \"type\": \"Property\", \n",
    "        \"value\": {\n",
    "            \"currentPowerOutput\": 13.0,\n",
    "            \"currentVoltage\": 400.0,\n",
    "            \"currentCurrent\": 16.0,\n",
    "            \"powerFactor\": 0.98,\n",
    "            \"efficiency\": 94.0\n",
    "        }\n",
    "    }\n",
    "}"
   ]
  },
  {
   "cell_type": "code",
   "execution_count": 73,
   "id": "6c0c07b7",
   "metadata": {},
   "outputs": [
    {
     "name": "stdout",
     "output_type": "stream",
     "text": [
      "HTTP status: 204\n",
      "info: \n"
     ]
    }
   ],
   "source": [
    "entity_id = \"urn:ngsi-ld:ChargingPointStatus:CP_001_S_002\"\n",
    "\n",
    "response = requests.patch(\n",
    "    f\"{NGSI_LD_ENDPOINT}/{entity_id}/attrs\",\n",
    "    json=update_CP_001_S_002,\n",
    "    headers=headers\n",
    ")\n",
    "\n",
    "print(f\"HTTP status: {response.status_code}\")\n",
    "print(f\"info: {response.text}\")"
   ]
  },
  {
   "cell_type": "code",
   "execution_count": 74,
   "id": "b9e07b1d",
   "metadata": {},
   "outputs": [
    {
     "name": "stdout",
     "output_type": "stream",
     "text": [
      "HTTP status: 200\n",
      "info: {'id': 'urn:ngsi-ld:ChargingPointStatus:CP_001_S_002', 'type': 'https://uri.fiware.org/ns/data-models#ChargingPointStatus'}\n"
     ]
    }
   ],
   "source": [
    "last_n=10\n",
    "\n",
    "url = f\"{MINTAKA_URL}/temporal/entities/{entity_id}\"\n",
    "params = {'lastN': last_n}\n",
    "response = requests.get(url, params=params)\n",
    "\n",
    "print(f\"HTTP status: {response.status_code}\")\n",
    "print(f\"info: {response.json()}\")"
   ]
  },
  {
   "cell_type": "code",
   "execution_count": 78,
   "id": "9ff2814b",
   "metadata": {},
   "outputs": [
    {
     "name": "stdout",
     "output_type": "stream",
     "text": [
      "时序查询状态: 200\n",
      "时序数据: {'id': 'urn:ngsi-ld:ChargingPointStatus:CP_001_S_002', 'type': 'https://uri.fiware.org/ns/data-models#ChargingPointStatus'}\n"
     ]
    }
   ],
   "source": [
    "import requests\n",
    "\n",
    "MINTAKA_URL = \"http://localhost:8080\"\n",
    "entity_id = \"urn:ngsi-ld:ChargingPointStatus:CP_001_S_002\"\n",
    "\n",
    "# 查询时序数据\n",
    "temporal_url = f\"{MINTAKA_URL}/temporal/entities/{entity_id}?options=sysAttrs\"\n",
    "response = requests.get(temporal_url)\n",
    "\n",
    "print(f\"时序查询状态: {response.status_code}\")\n",
    "if response.status_code == 200:\n",
    "    print(\"时序数据:\", response.json())\n",
    "else:\n",
    "    print(\"错误信息:\", response.text)"
   ]
  }
 ],
 "metadata": {
  "kernelspec": {
   "display_name": "base",
   "language": "python",
   "name": "python3"
  },
  "language_info": {
   "codemirror_mode": {
    "name": "ipython",
    "version": 3
   },
   "file_extension": ".py",
   "mimetype": "text/x-python",
   "name": "python",
   "nbconvert_exporter": "python",
   "pygments_lexer": "ipython3",
   "version": "3.11.5"
  }
 },
 "nbformat": 4,
 "nbformat_minor": 5
}
