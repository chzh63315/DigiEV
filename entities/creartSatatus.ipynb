{
 "cells": [
  {
   "cell_type": "code",
   "execution_count": 19,
   "id": "1c549f51",
   "metadata": {},
   "outputs": [
    {
     "name": "stdout",
     "output_type": "stream",
     "text": [
      "{'orionld version': '1.4.0', 'orion version': '1.15.0-next', 'uptime': '0 d, 0 h, 40 m, 22 s', 'git_hash': 'nogitversion', 'compile_time': 'Sat Aug 26 06:19:09 UTC 2023', 'compiled_by': 'root', 'compiled_in': '', 'release_date': 'Sat Aug 26 06:19:09 UTC 2023', 'doc': 'https://fiware-orion.readthedocs.org/en/master/'}\n",
      "{'git': {'revision': '9888046fb2bc31d573720cd81f868e6c95866fe7'}, 'build': {'time': '23 February 2022, 07:24:12 +0000'}, 'project': {'artifact-id': 'mintaka', 'group-id': 'org.fiware', 'version': '0.4.3'}}\n"
     ]
    }
   ],
   "source": [
    "import requests\n",
    "from datetime import datetime, timedelta,timezone\n",
    "\n",
    "ORION_URL = \"http://localhost:1026\"\n",
    "NGSI_LD_ENDPOINT = f\"{ORION_URL}/ngsi-ld/v1/entities\"\n",
    "MINTAKA_URL = \"http://localhost:8080\"\n",
    "\n",
    "headers = {\n",
    "        'Content-Type': 'application/json',\n",
    "        'Accept': 'application/ld+json',\n",
    "        'Link': '<https://raw.githubusercontent.com/chzh63315/DigiEV/refs/heads/main/contexts/datamodels.context-ngsi.jsonld>; rel=\"http://www.w3.org/ns/json-ld#context\"; type=\"application/ld+json\"'\n",
    "    }\n",
    "\n",
    "response = requests.get(f\"{ORION_URL}/version\")\n",
    "print(response.json())\n",
    "\n",
    "response = requests.get(f\"{MINTAKA_URL}/info\")\n",
    "print(response.json())"
   ]
  },
  {
   "cell_type": "code",
   "execution_count": 20,
   "id": "0c2bce01",
   "metadata": {},
   "outputs": [
    {
     "name": "stdout",
     "output_type": "stream",
     "text": [
      "HTTP statu: 409\n",
      "info: {\"type\":\"https://uri.etsi.org/ngsi-ld/errors/AlreadyExists\",\"title\":\"Entity already exists\",\"detail\":\"urn:ngsi-ld:ChargingPointStatus:ParisSaclay30-1-P-01-S\"}\n"
     ]
    }
   ],
   "source": [
    "CP_001_S = {\n",
    "    \"id\": \"urn:ngsi-ld:ChargingPointStatus:ParisSaclay30-1-P-01-S\",\n",
    "    \"type\": \"ChargingPointStatus\",\n",
    "    \"dateCreated\": {\n",
    "        \"type\": \"Property\",\n",
    "        \"value\": {\n",
    "            \"@type\": \"DateTime\",\n",
    "            \"@value\": datetime.now(timezone.utc).isoformat()\n",
    "        }\n",
    "    },\n",
    "    \"refChargingPoint\": {\n",
    "        \"type\": \"Relationship\",\n",
    "        \"object\": \"urn:ngsi-ld:ChargingPoint:ParisSaclay30-1-P-01\"\n",
    "    },\n",
    "    \"pointStatus\": {\n",
    "        \"type\": \"Property\",\n",
    "        \"value\": \"available\"\n",
    "    }\n",
    "}\n",
    "\n",
    "response = requests.post(\n",
    "    NGSI_LD_ENDPOINT,\n",
    "    json=CP_001_S,\n",
    "    headers=headers\n",
    ")\n",
    "\n",
    "print(f\"HTTP statu: {response.status_code}\")\n",
    "print(f\"info: {response.text}\")\n"
   ]
  },
  {
   "cell_type": "code",
   "execution_count": 22,
   "id": "d5f468a7",
   "metadata": {},
   "outputs": [],
   "source": [
    "update_CP_001_S = {\n",
    "    \"pointStatus\": {\n",
    "        \"type\": \"Property\",\n",
    "        \"value\": \"charging\"\n",
    "    }\n",
    "}"
   ]
  },
  {
   "cell_type": "code",
   "execution_count": 23,
   "id": "6c0c07b7",
   "metadata": {},
   "outputs": [
    {
     "name": "stdout",
     "output_type": "stream",
     "text": [
      "HTTP status: 204\n",
      "info: \n"
     ]
    }
   ],
   "source": [
    "entity_id = \"urn:ngsi-ld:ChargingPointStatus:ParisSaclay30-1-P-01-S\"\n",
    "\n",
    "response = requests.patch(\n",
    "    f\"{NGSI_LD_ENDPOINT}/{entity_id}/attrs\",\n",
    "    json=update_CP_001_S,\n",
    "    headers=headers\n",
    ")\n",
    "\n",
    "print(f\"HTTP status: {response.status_code}\")\n",
    "print(f\"info: {response.text}\")"
   ]
  },
  {
   "cell_type": "code",
   "execution_count": 24,
   "id": "48c0d7f0",
   "metadata": {},
   "outputs": [
    {
     "name": "stdout",
     "output_type": "stream",
     "text": [
      "charging_point_status 01 - HTTP status: 409\n",
      "charging_point_status 01 - info: {\"type\":\"https://uri.etsi.org/ngsi-ld/errors/AlreadyExists\",\"title\":\"Entity already exists\",\"detail\":\"urn:ngsi-ld:ChargingPointStatus:Building103-P-01-S\"}\n",
      "charging_point_status 02 - HTTP status: 409\n",
      "charging_point_status 02 - info: {\"type\":\"https://uri.etsi.org/ngsi-ld/errors/AlreadyExists\",\"title\":\"Entity already exists\",\"detail\":\"urn:ngsi-ld:ChargingPointStatus:Building103-P-02-S\"}\n",
      "charging_point_status 03 - HTTP status: 409\n",
      "charging_point_status 03 - info: {\"type\":\"https://uri.etsi.org/ngsi-ld/errors/AlreadyExists\",\"title\":\"Entity already exists\",\"detail\":\"urn:ngsi-ld:ChargingPointStatus:Building103-P-03-S\"}\n",
      "charging_point_status 04 - HTTP status: 409\n",
      "charging_point_status 04 - info: {\"type\":\"https://uri.etsi.org/ngsi-ld/errors/AlreadyExists\",\"title\":\"Entity already exists\",\"detail\":\"urn:ngsi-ld:ChargingPointStatus:Building103-P-04-S\"}\n",
      "charging_point_status 05 - HTTP status: 409\n",
      "charging_point_status 05 - info: {\"type\":\"https://uri.etsi.org/ngsi-ld/errors/AlreadyExists\",\"title\":\"Entity already exists\",\"detail\":\"urn:ngsi-ld:ChargingPointStatus:Building103-P-05-S\"}\n",
      "charging_point_status 06 - HTTP status: 409\n",
      "charging_point_status 06 - info: {\"type\":\"https://uri.etsi.org/ngsi-ld/errors/AlreadyExists\",\"title\":\"Entity already exists\",\"detail\":\"urn:ngsi-ld:ChargingPointStatus:Building103-P-06-S\"}\n",
      "charging_point_status 07 - HTTP status: 409\n",
      "charging_point_status 07 - info: {\"type\":\"https://uri.etsi.org/ngsi-ld/errors/AlreadyExists\",\"title\":\"Entity already exists\",\"detail\":\"urn:ngsi-ld:ChargingPointStatus:Building103-P-07-S\"}\n",
      "charging_point_status 08 - HTTP status: 409\n",
      "charging_point_status 08 - info: {\"type\":\"https://uri.etsi.org/ngsi-ld/errors/AlreadyExists\",\"title\":\"Entity already exists\",\"detail\":\"urn:ngsi-ld:ChargingPointStatus:Building103-P-08-S\"}\n",
      "charging_point_status 09 - HTTP status: 409\n",
      "charging_point_status 09 - info: {\"type\":\"https://uri.etsi.org/ngsi-ld/errors/AlreadyExists\",\"title\":\"Entity already exists\",\"detail\":\"urn:ngsi-ld:ChargingPointStatus:Building103-P-09-S\"}\n",
      "charging_point_status 10 - HTTP status: 409\n",
      "charging_point_status 10 - info: {\"type\":\"https://uri.etsi.org/ngsi-ld/errors/AlreadyExists\",\"title\":\"Entity already exists\",\"detail\":\"urn:ngsi-ld:ChargingPointStatus:Building103-P-10-S\"}\n"
     ]
    }
   ],
   "source": [
    "# Create charging point building 103\n",
    "def create_charging_point_status(point_number):\n",
    "    formatted_number = f\"{point_number:02d}\"\n",
    "    \n",
    "    charging_point_status = {\n",
    "        \"id\": f\"urn:ngsi-ld:ChargingPointStatus:Building103-P-{formatted_number}-S\",\n",
    "        \"type\": \"ChargingPointStatus\",\n",
    "        \n",
    "        \"refChargingPoint\": {\n",
    "            \"type\": \"Relationship\",\n",
    "            \"object\": f\"urn:ngsi-ld:ChargingPointStatus:Building103-P-{formatted_number}\"\n",
    "        },\n",
    "    \n",
    "        \"pointStatus\": {\n",
    "        \"type\": \"Property\",\n",
    "        \"value\": \"available\"\n",
    "        },  \n",
    "        \n",
    "        \"dateCreated\": {\n",
    "            \"type\": \"Property\",\n",
    "            \"value\": {\n",
    "                \"@type\": \"DateTime\",\n",
    "                \"@value\": datetime.now().isoformat() + \"Z\"\n",
    "            }\n",
    "        }\n",
    "    }\n",
    "    \n",
    "    return charging_point_status\n",
    "\n",
    "# Create 10 charging points\n",
    "charging_point_status = []\n",
    "for i in range(1, 11):\n",
    "    cp = create_charging_point_status(i)\n",
    "    charging_point_status.append(cp)\n",
    "\n",
    "# Send each charging point to Orion\n",
    "for i, cp in enumerate(charging_point_status, 1):\n",
    "    response = requests.post(\n",
    "        NGSI_LD_ENDPOINT,\n",
    "        json=cp,\n",
    "        headers=headers\n",
    "    )\n",
    "    \n",
    "    print(f\"charging_point_status {i:02d} - HTTP status: {response.status_code}\")\n",
    "    print(f\"charging_point_status {i:02d} - info: {response.text}\")"
   ]
  },
  {
   "cell_type": "code",
   "execution_count": null,
   "id": "c2a306af",
   "metadata": {},
   "outputs": [],
   "source": []
  },
  {
   "cell_type": "code",
   "execution_count": null,
   "id": "9214dbf4",
   "metadata": {},
   "outputs": [],
   "source": []
  }
 ],
 "metadata": {
  "kernelspec": {
   "display_name": "base",
   "language": "python",
   "name": "python3"
  },
  "language_info": {
   "codemirror_mode": {
    "name": "ipython",
    "version": 3
   },
   "file_extension": ".py",
   "mimetype": "text/x-python",
   "name": "python",
   "nbconvert_exporter": "python",
   "pygments_lexer": "ipython3",
   "version": "3.11.5"
  }
 },
 "nbformat": 4,
 "nbformat_minor": 5
}
