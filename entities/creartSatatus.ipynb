{
 "cells": [
  {
   "cell_type": "code",
   "execution_count": 7,
   "id": "1c549f51",
   "metadata": {},
   "outputs": [],
   "source": [
    "import requests\n",
    "from datetime import datetime, timedelta,timezone\n",
    "\n",
    "ORION_URL = \"http://localhost:1026\"\n",
    "NGSI_LD_ENDPOINT = f\"{ORION_URL}/ngsi-ld/v1/entities\"\n",
    "MINTAKA_URL = \"http://localhost:8080\""
   ]
  },
  {
   "cell_type": "code",
   "execution_count": 8,
   "id": "7f493208",
   "metadata": {},
   "outputs": [
    {
     "name": "stdout",
     "output_type": "stream",
     "text": [
      "{'orionld version': '1.4.0', 'orion version': '1.15.0-next', 'uptime': '0 d, 2 h, 56 m, 33 s', 'git_hash': 'nogitversion', 'compile_time': 'Sat Aug 26 06:19:09 UTC 2023', 'compiled_by': 'root', 'compiled_in': '', 'release_date': 'Sat Aug 26 06:19:09 UTC 2023', 'doc': 'https://fiware-orion.readthedocs.org/en/master/'}\n"
     ]
    }
   ],
   "source": [
    "response = requests.get(f\"{ORION_URL}/version\")\n",
    "print(response.json())"
   ]
  },
  {
   "cell_type": "code",
   "execution_count": 9,
   "id": "88bcc34d",
   "metadata": {},
   "outputs": [
    {
     "name": "stdout",
     "output_type": "stream",
     "text": [
      "{'git': {'revision': '9888046fb2bc31d573720cd81f868e6c95866fe7'}, 'build': {'time': '23 February 2022, 07:24:12 +0000'}, 'project': {'artifact-id': 'mintaka', 'group-id': 'org.fiware', 'version': '0.4.3'}}\n"
     ]
    }
   ],
   "source": [
    "response = requests.get(f\"{MINTAKA_URL}/info\")\n",
    "print(response.json())"
   ]
  },
  {
   "cell_type": "code",
   "execution_count": 10,
   "id": "1cb9d16f",
   "metadata": {},
   "outputs": [],
   "source": [
    "headers = {\n",
    "    'Content-Type': 'application/json',\n",
    "    'Accept': 'application/ld+json',\n",
    "    'Link': '<https://raw.githubusercontent.com/chzh63315/DigiEV/1fd2fb3374578aea96ef41b5a49fc03f144f7afd/contexts/datamodels.context-ngsi.jsonld>; rel=\"http://www.w3.org/ns/json-ld#context\"; type=\"application/ld+json\"'\n",
    "}"
   ]
  },
  {
   "cell_type": "code",
   "execution_count": 11,
   "id": "0c2bce01",
   "metadata": {},
   "outputs": [],
   "source": [
    "CP_001_S = {\n",
    "    \"id\": \"urn:ngsi-ld:ChargingPointStatus:E4C-001-CP-001-S\",\n",
    "    \"type\": \"ChargingPointStatus\",\n",
    "    \"dateCreated\": {\n",
    "        \"type\": \"Property\",\n",
    "        \"value\": {\n",
    "            \"@type\": \"DateTime\",\n",
    "            \"@value\": datetime.now(timezone.utc).isoformat()\n",
    "        }\n",
    "    },\n",
    "    \"refChargingPoint\": {\n",
    "        \"type\": \"Relationship\",\n",
    "        \"object\": \"urn:ngsi-ld:ChargingPoint:E4C-001-CP-001\"\n",
    "    },\n",
    "    \"unitStatus\": {\n",
    "        \"type\": \"Property\",\n",
    "        \"value\": \"available\"\n",
    "    },\n",
    "    \"operatingData\": {\n",
    "        \"type\": \"Property\",\n",
    "        \"value\": {\n",
    "            \"currentPowerOutput\": 0.0,\n",
    "            \"currentVoltage\": 230.0,\n",
    "            \"currentCurrent\": 0.0,\n",
    "            \"powerFactor\": 0.95,\n",
    "            \"efficiency\": 92.5\n",
    "        }\n",
    "    }\n",
    "}"
   ]
  },
  {
   "cell_type": "code",
   "execution_count": 12,
   "id": "b658a134",
   "metadata": {},
   "outputs": [
    {
     "name": "stdout",
     "output_type": "stream",
     "text": [
      "HTTP statu: 409\n",
      "info: {\"type\":\"https://uri.etsi.org/ngsi-ld/errors/AlreadyExists\",\"title\":\"Entity already exists\",\"detail\":\"urn:ngsi-ld:ChargingPointStatus:E4C-001-CP-001-S\"}\n"
     ]
    }
   ],
   "source": [
    "response = requests.post(\n",
    "    NGSI_LD_ENDPOINT,\n",
    "    json=CP_001_S,\n",
    "    headers=headers\n",
    ")\n",
    "\n",
    "print(f\"HTTP statu: {response.status_code}\")\n",
    "print(f\"info: {response.text}\")"
   ]
  },
  {
   "cell_type": "code",
   "execution_count": 13,
   "id": "18c4165f",
   "metadata": {},
   "outputs": [
    {
     "name": "stdout",
     "output_type": "stream",
     "text": [
      "HTTP status: 200\n",
      "info: {'@context': 'https://raw.githubusercontent.com/chzh63315/DigiEV/1fd2fb3374578aea96ef41b5a49fc03f144f7afd/contexts/datamodels.context-ngsi.jsonld', 'id': 'urn:ngsi-ld:ChargingPointStatus:E4C-001-CP-001-S', 'type': 'ChargingPointStatus', 'dateCreated': {'type': 'Property', 'value': {'@type': 'DateTime', '@value': '2025-06-30T10:12:01.767990+00:00'}}, 'refChargingPoint': {'type': 'Relationship', 'object': 'urn:ngsi-ld:ChargingPoint:E4C-001-CP-001'}, 'unitStatus': {'type': 'Property', 'value': 'charging'}, 'operatingData': {'type': 'Property', 'value': {'currentPowerOutput': 11, 'currentVoltage': 400, 'currentCurrent': 16, 'powerFactor': 0.98, 'efficiency': 94}}}\n"
     ]
    }
   ],
   "source": [
    "entity_id = \"urn:ngsi-ld:ChargingPointStatus:E4C-001-CP-001-S\"\n",
    "query_url = f\"{NGSI_LD_ENDPOINT}/{entity_id}\"\n",
    "\n",
    "response = requests.get(query_url, headers=headers)\n",
    "\n",
    "print(f\"HTTP status: {response.status_code}\")\n",
    "print(f\"info: {response.json()}\")"
   ]
  },
  {
   "cell_type": "code",
   "execution_count": 14,
   "id": "d5f468a7",
   "metadata": {},
   "outputs": [],
   "source": [
    "update_CP_001_S = {\n",
    "    \"unitStatus\": {\n",
    "        \"type\": \"Property\",\n",
    "        \"value\": \"charging\"\n",
    "    },\n",
    "    \"operatingData\": {\n",
    "        \"type\": \"Property\", \n",
    "        \"value\": {\n",
    "            \"currentPowerOutput\": 11.0,\n",
    "            \"currentVoltage\": 400.0,\n",
    "            \"currentCurrent\": 16.0,\n",
    "            \"powerFactor\": 0.98,\n",
    "            \"efficiency\": 94.0\n",
    "        }\n",
    "    }\n",
    "}"
   ]
  },
  {
   "cell_type": "code",
   "execution_count": 15,
   "id": "6c0c07b7",
   "metadata": {},
   "outputs": [
    {
     "name": "stdout",
     "output_type": "stream",
     "text": [
      "HTTP status: 204\n",
      "info: \n"
     ]
    }
   ],
   "source": [
    "entity_id = \"urn:ngsi-ld:ChargingPointStatus:E4C-001-CP-001-S\"\n",
    "\n",
    "response = requests.patch(\n",
    "    f\"{NGSI_LD_ENDPOINT}/{entity_id}/attrs\",\n",
    "    json=update_CP_001_S,\n",
    "    headers=headers\n",
    ")\n",
    "\n",
    "print(f\"HTTP status: {response.status_code}\")\n",
    "print(f\"info: {response.text}\")"
   ]
  }
 ],
 "metadata": {
  "kernelspec": {
   "display_name": "base",
   "language": "python",
   "name": "python3"
  },
  "language_info": {
   "codemirror_mode": {
    "name": "ipython",
    "version": 3
   },
   "file_extension": ".py",
   "mimetype": "text/x-python",
   "name": "python",
   "nbconvert_exporter": "python",
   "pygments_lexer": "ipython3",
   "version": "3.11.5"
  }
 },
 "nbformat": 4,
 "nbformat_minor": 5
}
