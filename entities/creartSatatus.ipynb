{
 "cells": [
  {
   "cell_type": "code",
   "execution_count": 13,
   "id": "1c549f51",
   "metadata": {},
   "outputs": [],
   "source": [
    "import requests\n",
    "from datetime import datetime, timedelta,timezone\n",
    "\n",
    "ORION_URL = \"http://localhost:1026\"\n",
    "NGSI_LD_ENDPOINT = f\"{ORION_URL}/ngsi-ld/v1/entities\"\n",
    "MINTAKA_URL = \"http://localhost:8080\""
   ]
  },
  {
   "cell_type": "code",
   "execution_count": 14,
   "id": "7f493208",
   "metadata": {},
   "outputs": [
    {
     "name": "stdout",
     "output_type": "stream",
     "text": [
      "{'orionld version': '1.4.0', 'orion version': '1.15.0-next', 'uptime': '0 d, 0 h, 4 m, 17 s', 'git_hash': 'nogitversion', 'compile_time': 'Sat Aug 26 06:19:09 UTC 2023', 'compiled_by': 'root', 'compiled_in': '', 'release_date': 'Sat Aug 26 06:19:09 UTC 2023', 'doc': 'https://fiware-orion.readthedocs.org/en/master/'}\n"
     ]
    }
   ],
   "source": [
    "response = requests.get(f\"{ORION_URL}/version\")\n",
    "print(response.json())"
   ]
  },
  {
   "cell_type": "code",
   "execution_count": 15,
   "id": "88bcc34d",
   "metadata": {},
   "outputs": [
    {
     "name": "stdout",
     "output_type": "stream",
     "text": [
      "{'git': {'revision': '9888046fb2bc31d573720cd81f868e6c95866fe7'}, 'build': {'time': '23 February 2022, 07:24:12 +0000'}, 'project': {'artifact-id': 'mintaka', 'group-id': 'org.fiware', 'version': '0.4.3'}}\n"
     ]
    }
   ],
   "source": [
    "response = requests.get(f\"{MINTAKA_URL}/info\")\n",
    "print(response.json())"
   ]
  },
  {
   "cell_type": "code",
   "execution_count": 16,
   "id": "1cb9d16f",
   "metadata": {},
   "outputs": [],
   "source": [
    "# headers = {\n",
    "#     \"Content-Type\": \"application/ld+json\",\n",
    "#     \"Accept\": \"application/ld+json\"\n",
    "# }\n",
    "\n",
    "headers = {\n",
    "    'Content-Type': 'application/json',\n",
    "    'Accept': 'application/ld+json',\n",
    "    'Link': '<https://raw.githubusercontent.com/chzh63315/DigiEV/refs/heads/main/contexts/datamodels.context-ngsi.jsonld>; rel=\"http://www.w3.org/ns/json-ld#context\"; type=\"application/ld+json\"'\n",
    "}"
   ]
  },
  {
   "cell_type": "code",
   "execution_count": 17,
   "id": "0c2bce01",
   "metadata": {},
   "outputs": [],
   "source": [
    "P_01_S = {\n",
    "    \"id\": \"urn:ngsi-ld:ChargingPointStatus:ParisSaclay30-1-P-01-status\",\n",
    "    \"type\": \"ChargingPointStatus\",\n",
    "    \"dateCreated\": {\n",
    "        \"type\": \"Property\",\n",
    "        \"value\": {\n",
    "            \"@type\": \"DateTime\",\n",
    "            \"@value\": datetime.now(timezone.utc).isoformat()\n",
    "        }\n",
    "    },\n",
    "    \"refChargingPoint\": {\n",
    "        \"type\": \"Relationship\",\n",
    "        \"object\": \"urn:ngsi-ld:ChargingPoint:ParisSaclay30-1-P-01\"\n",
    "    },\n",
    "    \"unitStatus\": {\n",
    "        \"type\": \"Property\",\n",
    "        \"value\": \"available\"\n",
    "    },\n",
    "    \"operatingData\": {\n",
    "        \"type\": \"Property\",\n",
    "        \"value\": {\n",
    "            \"currentPowerOutput\": 0.0,\n",
    "            \"currentVoltage\": 230.0,\n",
    "            \"currentCurrent\": 0.0\n",
    "        }\n",
    "    }\n",
    "}"
   ]
  },
  {
   "cell_type": "code",
   "execution_count": 18,
   "id": "b658a134",
   "metadata": {},
   "outputs": [
    {
     "name": "stdout",
     "output_type": "stream",
     "text": [
      "HTTP statu: 201\n",
      "info: \n"
     ]
    }
   ],
   "source": [
    "response = requests.post(\n",
    "    NGSI_LD_ENDPOINT,\n",
    "    json=P_01_S,\n",
    "    headers=headers\n",
    ")\n",
    "\n",
    "print(f\"HTTP statu: {response.status_code}\")\n",
    "print(f\"info: {response.text}\")"
   ]
  },
  {
   "cell_type": "code",
   "execution_count": 19,
   "id": "d5f468a7",
   "metadata": {},
   "outputs": [],
   "source": [
    "update_P_01_S = {\n",
    "    \"unitStatus\": {\n",
    "        \"type\": \"Property\",\n",
    "        \"value\": \"charging\"\n",
    "    },\n",
    "    \"operatingData\": {\n",
    "        \"type\": \"Property\", \n",
    "        \"value\": {\n",
    "            \"currentPowerOutput\": 13.0,\n",
    "            \"currentVoltage\": 400.0,\n",
    "            \"currentCurrent\": 16.0\n",
    "        }\n",
    "    }\n",
    "}"
   ]
  },
  {
   "cell_type": "code",
   "execution_count": 21,
   "id": "6c0c07b7",
   "metadata": {},
   "outputs": [
    {
     "name": "stdout",
     "output_type": "stream",
     "text": [
      "HTTP status: 204\n",
      "info: \n"
     ]
    }
   ],
   "source": [
    "entity_id = \"urn:ngsi-ld:ChargingPointStatus:ParisSaclay30-1-P-01-status\"\n",
    "\n",
    "response = requests.patch(\n",
    "    f\"{NGSI_LD_ENDPOINT}/{entity_id}/attrs\",\n",
    "    json=update_P_01_S,\n",
    "    headers=headers\n",
    ")\n",
    "\n",
    "print(f\"HTTP status: {response.status_code}\")\n",
    "print(f\"info: {response.text}\")"
   ]
  }
 ],
 "metadata": {
  "kernelspec": {
   "display_name": "base",
   "language": "python",
   "name": "python3"
  },
  "language_info": {
   "codemirror_mode": {
    "name": "ipython",
    "version": 3
   },
   "file_extension": ".py",
   "mimetype": "text/x-python",
   "name": "python",
   "nbconvert_exporter": "python",
   "pygments_lexer": "ipython3",
   "version": "3.12.7"
  }
 },
 "nbformat": 4,
 "nbformat_minor": 5
}
